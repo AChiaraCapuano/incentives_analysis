{
 "cells": [
  {
   "cell_type": "code",
   "execution_count": 1,
   "metadata": {},
   "outputs": [],
   "source": [
    "import pandas_gbq\n",
    "import pandas as pd\n",
    "import json\n",
    "import matplotlib.pyplot as plt\n",
    "import numpy as np"
   ]
  },
  {
   "cell_type": "markdown",
   "metadata": {},
   "source": [
    "# Customer level [WIP]"
   ]
  },
  {
   "cell_type": "markdown",
   "metadata": {},
   "source": [
    "Investigate:\n",
    "- Avg Share of orders incentivised\n",
    "- Avg Incentive value used per incentivised order \n",
    "- Avg Incentive Amount/Basket Value (AOV + Delivery + Service Fee) \n"
   ]
  },
  {
   "cell_type": "code",
   "execution_count": 27,
   "metadata": {},
   "outputs": [],
   "source": [
    "q_cust = '''\n",
    "SELECT analytical_customer_id,global_entity_id, order_id,\n",
    "  CASE WHEN (is_discount OR is_voucher OR is_joker)\n",
    "    THEN 1 else 0 end as used_incentive,  \n",
    "  CASE WHEN is_free_delivery\n",
    "    THEN 1 else 0 end as has_free_delivery,  \n",
    "  IFNULL(value.incentives.voucher_total_eur,0)+IFNULL(value.incentives.discount_total_eur, 0) AS incentive_value,\n",
    "  value.order.gmv_eur as basket_value \n",
    "FROM `fulfillment-dwh-production.curated_data_shared_coredata_business.orders` left join unnest(addons.subscriptions) as ad\n",
    "WHERE is_successful = true and global_entity_id=\"FO_NO\" and date(partition_date_local) between \"2023-01-01\" and \"2023-12-31\" and is_corporate = false and ad.subscription_id is null\n",
    "'''"
   ]
  },
  {
   "cell_type": "code",
   "execution_count": 28,
   "metadata": {},
   "outputs": [
    {
     "name": "stdout",
     "output_type": "stream",
     "text": [
      "\n",
      "Downloading:   0%|\u001B[32m          \u001B[0m|\u001B[A\n",
      "Downloading:   3%|\u001B[32m▎         \u001B[0m|\u001B[A\n",
      "Downloading:   3%|\u001B[32m▎         \u001B[0m|\u001B[A\n",
      "Downloading:   5%|\u001B[32m▌         \u001B[0m|\u001B[A\n",
      "Downloading:   5%|\u001B[32m▌         \u001B[0m|\u001B[A\n",
      "Downloading:   8%|\u001B[32m▊         \u001B[0m|\u001B[A\n",
      "Downloading:   8%|\u001B[32m▊         \u001B[0m|\u001B[A\n",
      "Downloading:  10%|\u001B[32m█         \u001B[0m|\u001B[A\n",
      "Downloading:  10%|\u001B[32m█         \u001B[0m|\u001B[A\n",
      "Downloading:  13%|\u001B[32m█▎        \u001B[0m|\u001B[A\n",
      "Downloading:  13%|\u001B[32m█▎        \u001B[0m|\u001B[A\n",
      "Downloading:  15%|\u001B[32m█▌        \u001B[0m|\u001B[A\n",
      "Downloading:  15%|\u001B[32m█▌        \u001B[0m|\u001B[A\n",
      "Downloading:  18%|\u001B[32m█▊        \u001B[0m|\u001B[A\n",
      "Downloading:  18%|\u001B[32m█▊        \u001B[0m|\u001B[A\n",
      "Downloading:  21%|\u001B[32m██        \u001B[0m|\u001B[A\n",
      "Downloading:  21%|\u001B[32m██        \u001B[0m|\u001B[A\n",
      "Downloading:  23%|\u001B[32m██▎       \u001B[0m|\u001B[A\n",
      "Downloading:  23%|\u001B[32m██▎       \u001B[0m|\u001B[A\n",
      "Downloading:  26%|\u001B[32m██▌       \u001B[0m|\u001B[A\n",
      "Downloading:  26%|\u001B[32m██▌       \u001B[0m|\u001B[A\n",
      "Downloading:  28%|\u001B[32m██▊       \u001B[0m|\u001B[A\n",
      "Downloading:  28%|\u001B[32m██▊       \u001B[0m|\u001B[A\n",
      "Downloading:  31%|\u001B[32m███       \u001B[0m|\u001B[A\n",
      "Downloading:  31%|\u001B[32m███       \u001B[0m|\u001B[A\n",
      "Downloading:  33%|\u001B[32m███▎      \u001B[0m|\u001B[A\n",
      "Downloading:  33%|\u001B[32m███▎      \u001B[0m|\u001B[A\n",
      "Downloading:  36%|\u001B[32m███▌      \u001B[0m|\u001B[A\n",
      "Downloading:  36%|\u001B[32m███▌      \u001B[0m|\u001B[A\n",
      "Downloading:  38%|\u001B[32m███▊      \u001B[0m|\u001B[A\n",
      "Downloading:  38%|\u001B[32m███▊      \u001B[0m|\u001B[A\n",
      "Downloading:  41%|\u001B[32m████      \u001B[0m|\u001B[A\n",
      "Downloading:  41%|\u001B[32m████      \u001B[0m|\u001B[A\n",
      "Downloading:  44%|\u001B[32m████▎     \u001B[0m|\u001B[A\n",
      "Downloading:  44%|\u001B[32m████▎     \u001B[0m|\u001B[A\n",
      "Downloading:  46%|\u001B[32m████▌     \u001B[0m|\u001B[A\n",
      "Downloading:  46%|\u001B[32m████▌     \u001B[0m|\u001B[A\n",
      "Downloading:  49%|\u001B[32m████▉     \u001B[0m|\u001B[A\n",
      "Downloading:  49%|\u001B[32m████▉     \u001B[0m|\u001B[A\n",
      "Downloading:  51%|\u001B[32m█████▏    \u001B[0m|\u001B[A\n",
      "Downloading:  51%|\u001B[32m█████▏    \u001B[0m|\u001B[A\n",
      "Downloading:  54%|\u001B[32m█████▍    \u001B[0m|\u001B[A\n",
      "Downloading:  54%|\u001B[32m█████▍    \u001B[0m|\u001B[A\n",
      "Downloading:  56%|\u001B[32m█████▋    \u001B[0m|\u001B[A\n",
      "Downloading:  56%|\u001B[32m█████▋    \u001B[0m|\u001B[A\n",
      "Downloading:  59%|\u001B[32m█████▉    \u001B[0m|\u001B[A\n",
      "Downloading:  59%|\u001B[32m█████▉    \u001B[0m|\u001B[A\n",
      "Downloading:  62%|\u001B[32m██████▏   \u001B[0m|\u001B[A\n",
      "Downloading:  62%|\u001B[32m██████▏   \u001B[0m|\u001B[A\n",
      "Downloading:  64%|\u001B[32m██████▍   \u001B[0m|\u001B[A\n",
      "Downloading:  64%|\u001B[32m██████▍   \u001B[0m|\u001B[A\n",
      "Downloading:  67%|\u001B[32m██████▋   \u001B[0m|\u001B[A\n",
      "Downloading:  67%|\u001B[32m██████▋   \u001B[0m|\u001B[A\n",
      "Downloading:  69%|\u001B[32m██████▉   \u001B[0m|\u001B[A\n",
      "Downloading:  69%|\u001B[32m██████▉   \u001B[0m|\u001B[A\n",
      "Downloading:  72%|\u001B[32m███████▏  \u001B[0m|\u001B[A\n",
      "Downloading:  72%|\u001B[32m███████▏  \u001B[0m|\u001B[A\n",
      "Downloading:  74%|\u001B[32m███████▍  \u001B[0m|\u001B[A\n",
      "Downloading:  74%|\u001B[32m███████▍  \u001B[0m|\u001B[A\n",
      "Downloading:  77%|\u001B[32m███████▋  \u001B[0m|\u001B[A\n",
      "Downloading:  77%|\u001B[32m███████▋  \u001B[0m|\u001B[A\n",
      "Downloading:  80%|\u001B[32m███████▉  \u001B[0m|\u001B[A\n",
      "Downloading:  80%|\u001B[32m███████▉  \u001B[0m|\u001B[A\n",
      "Downloading:  82%|\u001B[32m████████▏ \u001B[0m|\u001B[A\n",
      "Downloading:  82%|\u001B[32m████████▏ \u001B[0m|\u001B[A\n",
      "Downloading:  85%|\u001B[32m████████▍ \u001B[0m|\u001B[A\n",
      "Downloading:  85%|\u001B[32m████████▍ \u001B[0m|\u001B[A\n",
      "Downloading:  87%|\u001B[32m████████▋ \u001B[0m|\u001B[A\n",
      "Downloading:  87%|\u001B[32m████████▋ \u001B[0m|\u001B[A\n",
      "Downloading:  90%|\u001B[32m████████▉ \u001B[0m|\u001B[A\n",
      "Downloading:  90%|\u001B[32m████████▉ \u001B[0m|\u001B[A\n",
      "Downloading:  92%|\u001B[32m█████████▏\u001B[0m|\u001B[A\n",
      "Downloading:  92%|\u001B[32m█████████▏\u001B[0m|\u001B[A\n",
      "Downloading:  95%|\u001B[32m█████████▌\u001B[0m|\u001B[A\n",
      "Downloading:  95%|\u001B[32m█████████▌\u001B[0m|\u001B[A\n",
      "Downloading:  98%|\u001B[32m█████████▊\u001B[0m|\u001B[A\n",
      "Downloading:  98%|\u001B[32m█████████▊\u001B[0m|\u001B[A\n",
      "Downloading: 100%|\u001B[32m██████████\u001B[0m|\u001B[A\n"
     ]
    }
   ],
   "source": [
    "df_customer = pandas_gbq.read_gbq(q_cust)"
   ]
  },
  {
   "cell_type": "code",
   "execution_count": 29,
   "metadata": {},
   "outputs": [
    {
     "data": {
      "text/plain": [
       "Index(['analytical_customer_id', 'global_entity_id', 'order_id',\n",
       "       'used_incentive', 'has_free_delivery', 'incentive_value',\n",
       "       'basket_value'],\n",
       "      dtype='object')"
      ]
     },
     "execution_count": 29,
     "metadata": {},
     "output_type": "execute_result"
    }
   ],
   "source": [
    "df_customer.columns"
   ]
  },
  {
   "cell_type": "code",
   "execution_count": 33,
   "metadata": {},
   "outputs": [
    {
     "data": {
      "text/plain": [
       "754216"
      ]
     },
     "execution_count": 33,
     "metadata": {},
     "output_type": "execute_result"
    }
   ],
   "source": [
    "df_customer['analytical_customer_id'].nunique()"
   ]
  },
  {
   "cell_type": "markdown",
   "metadata": {},
   "source": [
    "## Avg share of orders incentivized"
   ]
  },
  {
   "cell_type": "code",
   "execution_count": 49,
   "metadata": {},
   "outputs": [],
   "source": [
    "df_incentivized = df_customer.groupby('analytical_customer_id')[['used_incentive', 'has_free_delivery']].sum().reset_index()"
   ]
  },
  {
   "cell_type": "code",
   "execution_count": 47,
   "metadata": {},
   "outputs": [
    {
     "data": {
      "text/plain": [
       "0.5627021967181816"
      ]
     },
     "execution_count": 47,
     "metadata": {},
     "output_type": "execute_result"
    }
   ],
   "source": [
    "len(df_incentivized[df_incentivized['used_incentive']>0])/len(df_incentivized)"
   ]
  },
  {
   "cell_type": "code",
   "execution_count": 50,
   "metadata": {},
   "outputs": [
    {
     "data": {
      "text/plain": [
       "0.6425692374598259"
      ]
     },
     "execution_count": 50,
     "metadata": {},
     "output_type": "execute_result"
    }
   ],
   "source": [
    "len(df_incentivized[df_incentivized['has_free_delivery']>0])/len(df_incentivized)"
   ]
  },
  {
   "cell_type": "markdown",
   "metadata": {},
   "source": [
    "In one year, 56% customers used an incentive at least once, and 64% of them placed orders with free delivery."
   ]
  },
  {
   "cell_type": "markdown",
   "metadata": {},
   "source": [
    "## Avg incentive value per order"
   ]
  },
  {
   "cell_type": "code",
   "execution_count": 53,
   "metadata": {},
   "outputs": [],
   "source": [
    "df_avg_order = df_customer[df_customer['used_incentive']==1].groupby('analytical_customer_id')['incentive_value'].mean().reset_index()"
   ]
  },
  {
   "cell_type": "markdown",
   "metadata": {},
   "source": [
    "Distribution of incentive values:"
   ]
  },
  {
   "cell_type": "code",
   "execution_count": 58,
   "metadata": {},
   "outputs": [
    {
     "data": {
      "text/plain": [
       "(array([2.32010e+04, 1.15832e+05, 1.21504e+05, 8.03610e+04, 3.61100e+04,\n",
       "        2.19650e+04, 9.14700e+03, 6.99800e+03, 2.70700e+03, 1.96600e+03,\n",
       "        1.36200e+03, 1.01000e+03, 7.91000e+02, 4.84000e+02, 2.80000e+02,\n",
       "        1.44000e+02, 1.55000e+02, 8.80000e+01, 5.20000e+01, 3.00000e+01,\n",
       "        4.50000e+01, 2.80000e+01, 1.90000e+01, 2.10000e+01, 1.20000e+01,\n",
       "        9.00000e+00, 8.00000e+00, 8.00000e+00, 5.00000e+00, 6.00000e+00,\n",
       "        6.00000e+00, 4.00000e+00, 6.00000e+00, 1.00000e+00, 7.00000e+00,\n",
       "        3.00000e+00, 4.00000e+00, 1.00000e+00, 1.00000e+00, 3.00000e+00,\n",
       "        2.00000e+00, 0.00000e+00, 1.00000e+00, 1.00000e+00, 1.00000e+00,\n",
       "        1.00000e+00, 2.00000e+00, 1.00000e+00, 1.00000e+00, 0.00000e+00,\n",
       "        1.00000e+00, 0.00000e+00, 0.00000e+00, 1.00000e+00, 0.00000e+00,\n",
       "        0.00000e+00, 0.00000e+00, 0.00000e+00, 0.00000e+00, 0.00000e+00,\n",
       "        0.00000e+00, 0.00000e+00, 0.00000e+00, 0.00000e+00, 0.00000e+00,\n",
       "        0.00000e+00, 0.00000e+00, 0.00000e+00, 0.00000e+00, 1.00000e+00,\n",
       "        0.00000e+00, 0.00000e+00, 0.00000e+00, 0.00000e+00, 0.00000e+00,\n",
       "        0.00000e+00, 0.00000e+00, 0.00000e+00, 0.00000e+00, 0.00000e+00,\n",
       "        0.00000e+00, 0.00000e+00, 0.00000e+00, 0.00000e+00, 0.00000e+00,\n",
       "        0.00000e+00, 0.00000e+00, 1.00000e+00, 0.00000e+00, 0.00000e+00,\n",
       "        0.00000e+00, 0.00000e+00, 0.00000e+00, 0.00000e+00, 0.00000e+00,\n",
       "        0.00000e+00, 0.00000e+00, 0.00000e+00, 0.00000e+00, 1.00000e+00]),\n",
       " array([  0.    ,   3.3663,   6.7326,  10.0989,  13.4652,  16.8315,\n",
       "         20.1978,  23.5641,  26.9304,  30.2967,  33.663 ,  37.0293,\n",
       "         40.3956,  43.7619,  47.1282,  50.4945,  53.8608,  57.2271,\n",
       "         60.5934,  63.9597,  67.326 ,  70.6923,  74.0586,  77.4249,\n",
       "         80.7912,  84.1575,  87.5238,  90.8901,  94.2564,  97.6227,\n",
       "        100.989 , 104.3553, 107.7216, 111.0879, 114.4542, 117.8205,\n",
       "        121.1868, 124.5531, 127.9194, 131.2857, 134.652 , 138.0183,\n",
       "        141.3846, 144.7509, 148.1172, 151.4835, 154.8498, 158.2161,\n",
       "        161.5824, 164.9487, 168.315 , 171.6813, 175.0476, 178.4139,\n",
       "        181.7802, 185.1465, 188.5128, 191.8791, 195.2454, 198.6117,\n",
       "        201.978 , 205.3443, 208.7106, 212.0769, 215.4432, 218.8095,\n",
       "        222.1758, 225.5421, 228.9084, 232.2747, 235.641 , 239.0073,\n",
       "        242.3736, 245.7399, 249.1062, 252.4725, 255.8388, 259.2051,\n",
       "        262.5714, 265.9377, 269.304 , 272.6703, 276.0366, 279.4029,\n",
       "        282.7692, 286.1355, 289.5018, 292.8681, 296.2344, 299.6007,\n",
       "        302.967 , 306.3333, 309.6996, 313.0659, 316.4322, 319.7985,\n",
       "        323.1648, 326.5311, 329.8974, 333.2637, 336.63  ]),\n",
       " <BarContainer object of 100 artists>)"
      ]
     },
     "execution_count": 58,
     "metadata": {},
     "output_type": "execute_result"
    },
    {
     "data": {
      "image/png": "[encoded data removed]",
      "text/plain": [
       "<Figure size 640x480 with 1 Axes>"
      ]
     },
     "metadata": {},
     "output_type": "display_data"
    }
   ],
   "source": [
    "plt.hist(df_avg_order['incentive_value'], bins=100)"
   ]
  },
  {
   "cell_type": "markdown",
   "metadata": {},
   "source": [
    "## Avg incentive amount basket"
   ]
  },
  {
   "cell_type": "code",
   "execution_count": 56,
   "metadata": {},
   "outputs": [],
   "source": [
    "df_avg_basket = df_customer[df_customer['used_incentive']==1].groupby('analytical_customer_id')['basket_value'].mean().reset_index()"
   ]
  },
  {
   "cell_type": "code",
   "execution_count": 59,
   "metadata": {},
   "outputs": [
    {
     "data": {
      "text/plain": [
       "(array([4.04000e+03, 1.68630e+04, 6.15570e+04, 1.00647e+05, 9.12890e+04,\n",
       "        5.84780e+04, 3.50630e+04, 2.11090e+04, 1.27440e+04, 7.52700e+03,\n",
       "        4.63100e+03, 3.02600e+03, 2.00200e+03, 1.40700e+03, 9.39000e+02,\n",
       "        6.94000e+02, 5.07000e+02, 4.18000e+02, 2.82000e+02, 1.90000e+02,\n",
       "        1.72000e+02, 1.38000e+02, 1.11000e+02, 9.70000e+01, 7.20000e+01,\n",
       "        5.60000e+01, 5.10000e+01, 4.20000e+01, 3.80000e+01, 1.50000e+01,\n",
       "        2.80000e+01, 1.90000e+01, 1.50000e+01, 1.60000e+01, 1.40000e+01,\n",
       "        1.00000e+01, 1.00000e+01, 9.00000e+00, 6.00000e+00, 6.00000e+00,\n",
       "        7.00000e+00, 1.00000e+01, 3.00000e+00, 6.00000e+00, 2.00000e+00,\n",
       "        4.00000e+00, 1.00000e+00, 2.00000e+00, 3.00000e+00, 2.00000e+00,\n",
       "        5.00000e+00, 0.00000e+00, 2.00000e+00, 3.00000e+00, 0.00000e+00,\n",
       "        1.00000e+00, 0.00000e+00, 1.00000e+00, 1.00000e+00, 0.00000e+00,\n",
       "        0.00000e+00, 1.00000e+00, 0.00000e+00, 0.00000e+00, 0.00000e+00,\n",
       "        1.00000e+00, 0.00000e+00, 0.00000e+00, 2.00000e+00, 0.00000e+00,\n",
       "        0.00000e+00, 0.00000e+00, 1.00000e+00, 0.00000e+00, 0.00000e+00,\n",
       "        0.00000e+00, 0.00000e+00, 0.00000e+00, 0.00000e+00, 0.00000e+00,\n",
       "        0.00000e+00, 1.00000e+00, 0.00000e+00, 0.00000e+00, 0.00000e+00,\n",
       "        0.00000e+00, 0.00000e+00, 0.00000e+00, 0.00000e+00, 1.00000e+00,\n",
       "        0.00000e+00, 0.00000e+00, 0.00000e+00, 0.00000e+00, 0.00000e+00,\n",
       "        0.00000e+00, 0.00000e+00, 0.00000e+00, 0.00000e+00, 1.00000e+00]),\n",
       " array([  0.   ,   6.061,  12.122,  18.183,  24.244,  30.305,  36.366,\n",
       "         42.427,  48.488,  54.549,  60.61 ,  66.671,  72.732,  78.793,\n",
       "         84.854,  90.915,  96.976, 103.037, 109.098, 115.159, 121.22 ,\n",
       "        127.281, 133.342, 139.403, 145.464, 151.525, 157.586, 163.647,\n",
       "        169.708, 175.769, 181.83 , 187.891, 193.952, 200.013, 206.074,\n",
       "        212.135, 218.196, 224.257, 230.318, 236.379, 242.44 , 248.501,\n",
       "        254.562, 260.623, 266.684, 272.745, 278.806, 284.867, 290.928,\n",
       "        296.989, 303.05 , 309.111, 315.172, 321.233, 327.294, 333.355,\n",
       "        339.416, 345.477, 351.538, 357.599, 363.66 , 369.721, 375.782,\n",
       "        381.843, 387.904, 393.965, 400.026, 406.087, 412.148, 418.209,\n",
       "        424.27 , 430.331, 436.392, 442.453, 448.514, 454.575, 460.636,\n",
       "        466.697, 472.758, 478.819, 484.88 , 490.941, 497.002, 503.063,\n",
       "        509.124, 515.185, 521.246, 527.307, 533.368, 539.429, 545.49 ,\n",
       "        551.551, 557.612, 563.673, 569.734, 575.795, 581.856, 587.917,\n",
       "        593.978, 600.039, 606.1  ]),\n",
       " <BarContainer object of 100 artists>)"
      ]
     },
     "execution_count": 59,
     "metadata": {},
     "output_type": "execute_result"
    },
    {
     "data": {
      "image/png": "[encoded data removed]",
      "text/plain": [
       "<Figure size 640x480 with 1 Axes>"
      ]
     },
     "metadata": {},
     "output_type": "display_data"
    }
   ],
   "source": [
    "plt.hist(df_avg_basket['basket_value'], bins=100)"
   ]
  },
  {
   "cell_type": "markdown",
   "metadata": {},
   "source": [
    "# Order level"
   ]
  },
  {
   "cell_type": "code",
   "execution_count": 20,
   "metadata": {
    "collapsed": false,
    "jupyter": {
     "outputs_hidden": false
    },
    "pycharm": {
     "name": "#%%\n"
    }
   },
   "outputs": [],
   "source": [
    "q='''\n",
    "SELECT \n",
    "IFNULL(value.incentives.voucher_total_eur,0) as is_voucher_incentive_value, \n",
    "IFNULL(value.incentives.discount_dh_eur,0)+IFNULL(value.incentives.discount_other_eur,0) is_discount_incentive_value,\n",
    "IFNULL(value.incentives.joker_customer_discount_eur,0) is_joker_incentive_value,\n",
    "IFNULL(value.incentives.voucher_total_eur,0)+IFNULL(value.incentives.discount_dh_eur,0)+IFNULL(value.incentives.discount_other_eur,0)\n",
    "+IFNULL(value.incentives.joker_customer_discount_eur,0) as total_incentive_value,\n",
    "value.order.gmv_eur as basket_value, \n",
    "is_discount, \n",
    "is_voucher, \n",
    "is_joker,\n",
    "is_free_delivery \n",
    "FROM `fulfillment-dwh-production.curated_data_shared_coredata_business.orders` \n",
    "WHERE is_successful = true and global_entity_id=\"FO_NO\" and date(partition_date_local) = \"2023-12-12\"\n",
    "'''"
   ]
  },
  {
   "cell_type": "code",
   "execution_count": 21,
   "metadata": {
    "collapsed": false,
    "jupyter": {
     "outputs_hidden": false
    },
    "pycharm": {
     "name": "#%%\n"
    }
   },
   "outputs": [
    {
     "name": "stdout",
     "output_type": "stream",
     "text": [
      "Downloading: 100%|\u001B[32m██████████\u001B[0m|\n"
     ]
    }
   ],
   "source": [
    "df = pandas_gbq.read_gbq(q)"
   ]
  },
  {
   "cell_type": "code",
   "execution_count": 22,
   "metadata": {},
   "outputs": [
    {
     "data": {
      "text/html": [
       "<div>\n",
       "<style scoped>\n",
       "    .dataframe tbody tr th:only-of-type {\n",
       "        vertical-align: middle;\n",
       "    }\n",
       "\n",
       "    .dataframe tbody tr th {\n",
       "        vertical-align: top;\n",
       "    }\n",
       "\n",
       "    .dataframe thead th {\n",
       "        text-align: right;\n",
       "    }\n",
       "</style>\n",
       "<table border=\"1\" class=\"dataframe\">\n",
       "  <thead>\n",
       "    <tr style=\"text-align: right;\">\n",
       "      <th></th>\n",
       "      <th>is_voucher_incentive_value</th>\n",
       "      <th>is_discount_incentive_value</th>\n",
       "      <th>is_joker_incentive_value</th>\n",
       "      <th>total_incentive_value</th>\n",
       "      <th>basket_value</th>\n",
       "      <th>is_discount</th>\n",
       "      <th>is_voucher</th>\n",
       "      <th>is_joker</th>\n",
       "      <th>is_free_delivery</th>\n",
       "    </tr>\n",
       "  </thead>\n",
       "  <tbody>\n",
       "    <tr>\n",
       "      <th>23</th>\n",
       "      <td>0E-9</td>\n",
       "      <td>0E-9</td>\n",
       "      <td>3.800000000</td>\n",
       "      <td>3.800000000</td>\n",
       "      <td>13.010000000</td>\n",
       "      <td>True</td>\n",
       "      <td>False</td>\n",
       "      <td>True</td>\n",
       "      <td>True</td>\n",
       "    </tr>\n",
       "    <tr>\n",
       "      <th>57</th>\n",
       "      <td>0E-9</td>\n",
       "      <td>0E-9</td>\n",
       "      <td>3.800000000</td>\n",
       "      <td>3.800000000</td>\n",
       "      <td>13.690000000</td>\n",
       "      <td>True</td>\n",
       "      <td>False</td>\n",
       "      <td>True</td>\n",
       "      <td>True</td>\n",
       "    </tr>\n",
       "    <tr>\n",
       "      <th>74</th>\n",
       "      <td>0E-9</td>\n",
       "      <td>0E-9</td>\n",
       "      <td>3.800000000</td>\n",
       "      <td>3.800000000</td>\n",
       "      <td>13.770000000</td>\n",
       "      <td>True</td>\n",
       "      <td>False</td>\n",
       "      <td>True</td>\n",
       "      <td>True</td>\n",
       "    </tr>\n",
       "    <tr>\n",
       "      <th>93</th>\n",
       "      <td>0E-9</td>\n",
       "      <td>0E-9</td>\n",
       "      <td>8.450000000</td>\n",
       "      <td>8.450000000</td>\n",
       "      <td>28.560000000</td>\n",
       "      <td>True</td>\n",
       "      <td>False</td>\n",
       "      <td>True</td>\n",
       "      <td>True</td>\n",
       "    </tr>\n",
       "    <tr>\n",
       "      <th>152</th>\n",
       "      <td>0E-9</td>\n",
       "      <td>0E-9</td>\n",
       "      <td>3.800000000</td>\n",
       "      <td>3.800000000</td>\n",
       "      <td>14.280000000</td>\n",
       "      <td>True</td>\n",
       "      <td>False</td>\n",
       "      <td>True</td>\n",
       "      <td>True</td>\n",
       "    </tr>\n",
       "    <tr>\n",
       "      <th>...</th>\n",
       "      <td>...</td>\n",
       "      <td>...</td>\n",
       "      <td>...</td>\n",
       "      <td>...</td>\n",
       "      <td>...</td>\n",
       "      <td>...</td>\n",
       "      <td>...</td>\n",
       "      <td>...</td>\n",
       "      <td>...</td>\n",
       "    </tr>\n",
       "    <tr>\n",
       "      <th>14707</th>\n",
       "      <td>0E-9</td>\n",
       "      <td>0E-9</td>\n",
       "      <td>8.450000000</td>\n",
       "      <td>8.450000000</td>\n",
       "      <td>62.520000000</td>\n",
       "      <td>True</td>\n",
       "      <td>False</td>\n",
       "      <td>True</td>\n",
       "      <td>False</td>\n",
       "    </tr>\n",
       "    <tr>\n",
       "      <th>14719</th>\n",
       "      <td>0E-9</td>\n",
       "      <td>0E-9</td>\n",
       "      <td>8.450000000</td>\n",
       "      <td>8.450000000</td>\n",
       "      <td>58.630000000</td>\n",
       "      <td>True</td>\n",
       "      <td>False</td>\n",
       "      <td>True</td>\n",
       "      <td>False</td>\n",
       "    </tr>\n",
       "    <tr>\n",
       "      <th>14783</th>\n",
       "      <td>0E-9</td>\n",
       "      <td>0E-9</td>\n",
       "      <td>8.450000000</td>\n",
       "      <td>8.450000000</td>\n",
       "      <td>47.820000000</td>\n",
       "      <td>True</td>\n",
       "      <td>False</td>\n",
       "      <td>True</td>\n",
       "      <td>False</td>\n",
       "    </tr>\n",
       "    <tr>\n",
       "      <th>14819</th>\n",
       "      <td>0E-9</td>\n",
       "      <td>0E-9</td>\n",
       "      <td>8.450000000</td>\n",
       "      <td>8.450000000</td>\n",
       "      <td>52.470000000</td>\n",
       "      <td>True</td>\n",
       "      <td>False</td>\n",
       "      <td>True</td>\n",
       "      <td>False</td>\n",
       "    </tr>\n",
       "    <tr>\n",
       "      <th>14877</th>\n",
       "      <td>0E-9</td>\n",
       "      <td>0E-9</td>\n",
       "      <td>8.450000000</td>\n",
       "      <td>8.450000000</td>\n",
       "      <td>40.720000000</td>\n",
       "      <td>True</td>\n",
       "      <td>False</td>\n",
       "      <td>True</td>\n",
       "      <td>False</td>\n",
       "    </tr>\n",
       "  </tbody>\n",
       "</table>\n",
       "<p>561 rows × 9 columns</p>\n",
       "</div>"
      ],
      "text/plain": [
       "      is_voucher_incentive_value is_discount_incentive_value  \\\n",
       "23                          0E-9                        0E-9   \n",
       "57                          0E-9                        0E-9   \n",
       "74                          0E-9                        0E-9   \n",
       "93                          0E-9                        0E-9   \n",
       "152                         0E-9                        0E-9   \n",
       "...                          ...                         ...   \n",
       "14707                       0E-9                        0E-9   \n",
       "14719                       0E-9                        0E-9   \n",
       "14783                       0E-9                        0E-9   \n",
       "14819                       0E-9                        0E-9   \n",
       "14877                       0E-9                        0E-9   \n",
       "\n",
       "      is_joker_incentive_value total_incentive_value  basket_value  \\\n",
       "23                 3.800000000           3.800000000  13.010000000   \n",
       "57                 3.800000000           3.800000000  13.690000000   \n",
       "74                 3.800000000           3.800000000  13.770000000   \n",
       "93                 8.450000000           8.450000000  28.560000000   \n",
       "152                3.800000000           3.800000000  14.280000000   \n",
       "...                        ...                   ...           ...   \n",
       "14707              8.450000000           8.450000000  62.520000000   \n",
       "14719              8.450000000           8.450000000  58.630000000   \n",
       "14783              8.450000000           8.450000000  47.820000000   \n",
       "14819              8.450000000           8.450000000  52.470000000   \n",
       "14877              8.450000000           8.450000000  40.720000000   \n",
       "\n",
       "       is_discount  is_voucher  is_joker  is_free_delivery  \n",
       "23            True       False      True              True  \n",
       "57            True       False      True              True  \n",
       "74            True       False      True              True  \n",
       "93            True       False      True              True  \n",
       "152           True       False      True              True  \n",
       "...            ...         ...       ...               ...  \n",
       "14707         True       False      True             False  \n",
       "14719         True       False      True             False  \n",
       "14783         True       False      True             False  \n",
       "14819         True       False      True             False  \n",
       "14877         True       False      True             False  \n",
       "\n",
       "[561 rows x 9 columns]"
      ]
     },
     "execution_count": 22,
     "metadata": {},
     "output_type": "execute_result"
    }
   ],
   "source": [
    "df[df['is_joker']==True]\n",
    "#print(len(df[df['is_discount']==True]))"
   ]
  },
  {
   "cell_type": "code",
   "execution_count": 23,
   "metadata": {},
   "outputs": [],
   "source": [
    "def plot_hist(df, subset):\n",
    "    df_sub = df[df[subset]==True]\n",
    "    print(\"Share: %\", round(len(df_sub)*100/len(df), 2))\n",
    "    fig, ax = plt.subplots(figsize = (4,4))\n",
    "    ax.hist(df_sub['total_incentive_value'], alpha=0.5, label='total_incentive_value')\n",
    "    if subset!=\"is_free_delivery\":\n",
    "        ax.hist(df_sub[subset+'_incentive_value'], alpha=0.5, label='basket_value_incentive_specific')\n",
    "    ax.hist(df_sub['basket_value'], alpha=0.5, label='basket_value')\n",
    "    ax.legend(loc='upper right')\n",
    "    plt.show()\n",
    "\n",
    "def plot_all(df):\n",
    "    for col in df.columns:\n",
    "        if \"value\" not in col and \"is_\" in col and 'incentive_value' not in col:\n",
    "            print(col)\n",
    "            plot_hist(df, col)"
   ]
  },
  {
   "cell_type": "code",
   "execution_count": 24,
   "metadata": {},
   "outputs": [
    {
     "name": "stdout",
     "output_type": "stream",
     "text": [
      "is_discount\n",
      "Share: % 22.97\n"
     ]
    },
    {
     "data": {
      "image/png": "[encoded data removed]",
      "text/plain": [
       "<Figure size 400x400 with 1 Axes>"
      ]
     },
     "metadata": {},
     "output_type": "display_data"
    },
    {
     "name": "stdout",
     "output_type": "stream",
     "text": [
      "is_voucher\n",
      "Share: % 10.5\n"
     ]
    },
    {
     "data": {
      "image/png": "[encoded data removed]",
      "text/plain": [
       "<Figure size 400x400 with 1 Axes>"
      ]
     },
     "metadata": {},
     "output_type": "display_data"
    },
    {
     "name": "stdout",
     "output_type": "stream",
     "text": [
      "is_joker\n",
      "Share: % 3.4\n"
     ]
    },
    {
     "data": {
      "image/png": "[encoded data removed]",
      "text/plain": [
       "<Figure size 400x400 with 1 Axes>"
      ]
     },
     "metadata": {},
     "output_type": "display_data"
    },
    {
     "name": "stdout",
     "output_type": "stream",
     "text": [
      "is_free_delivery\n",
      "Share: % 28.78\n"
     ]
    },
    {
     "data": {
      "image/png": "[encoded data removed]",
      "text/plain": [
       "<Figure size 400x400 with 1 Axes>"
      ]
     },
     "metadata": {},
     "output_type": "display_data"
    }
   ],
   "source": [
    "plot_all(df) #EUR"
   ]
  },
  {
   "cell_type": "code",
   "execution_count": null,
   "metadata": {},
   "outputs": [],
   "source": [
    "df.columns"
   ]
  },
  {
   "cell_type": "markdown",
   "metadata": {},
   "source": [
    "### Columns description:\n",
    "#### Incentives\n",
    "- **is_discount**: True if some other discount was given (**and used?**) to the customer (other than voucher and joker), e.g. Meal deal / Happy hour / Free drink / Pizza Montag / Free Delivery etc.\t\n",
    "- **is_voucher**: True if a voucher code was used, when the customer types in a code during the order process to receive a price reduction.\t\n",
    "- **is_free_delivery**: True if there was no delivery fee for the order.\n",
    "- **is_joker**: True if the joker feature was used in the order process.\n",
    "- **gmv_eur**: Gross Merchandise Value (GMV) is a metric that measures your total value of sales over a certain period of time. In this case we are calculating for each order the total amount Paid compulsory by Customer (also called MPR after DH Subsidy). Note that for top-level reporting this is calculated on Successful Orders, but not necessarily on Commissionable Orders. Includes VAT, all fees and incentives. Excludes Rider tip. Amount the customer paid (after vouchers and discounts, including delivery fee, allowance amount and **excluding tips**) in Euro.\n",
    "\n",
    "For the discounts:\n",
    "- **is_voucher_incentive_value**: we take the value.incentives.voucher_total_eur value which includes both DH vouchers and non\n",
    "- **is_discount_incentive_value**: we sum discount_dh_eur and discount_other_eur because discount_total_eur also contains joker - also summing all the appropriate columns the result wil still differ from the \"total\" column due to rounding errors\n",
    "- **is_joker_incentive_value**: the value is not null only if the joker feature was used in the order process (joker is a customized incentive, time limited)\n",
    "- delivery free has no incentive value\n",
    "\n",
    "Potentially interesting columns:\n",
    "is_acquisition, is_corporate, is_qcommerce, value.incentives.wallet_total_eur\n",
    "\n",
    "A way to differentiate dh vs vendor voucher value is to look at the respective voucher amount (the column contains a voucher amount breakdown).\n",
    "\n",
    "To calculate the incentive value:\n",
    "vouchers.amount_eur field is similar to value.incentives.voucher_total_eur (field I actually used), but in amount_eur the voucher value is divided against each voucher code/ campaign name."
   ]
  },
  {
   "cell_type": "markdown",
   "metadata": {},
   "source": [
    "Commission data info comes a month later, however January did not seem to have data for the day - but we are not interested in commission data."
   ]
  },
  {
   "cell_type": "code",
   "execution_count": null,
   "metadata": {},
   "outputs": [],
   "source": []
  }
 ],
 "metadata": {
  "kernelspec": {
   "display_name": "Python 3 (ipykernel)",
   "language": "python",
   "name": "python3"
  },
  "language_info": {
   "codemirror_mode": {
    "name": "ipython",
    "version": 3
   },
   "file_extension": ".py",
   "mimetype": "text/x-python",
   "name": "python",
   "nbconvert_exporter": "python",
   "pygments_lexer": "ipython3",
   "version": "3.10.1"
  }
 },
 "nbformat": 4,
 "nbformat_minor": 4
}