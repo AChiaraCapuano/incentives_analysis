{
 "cells": [
  {
   "cell_type": "code",
   "execution_count": 1,
   "metadata": {},
   "outputs": [],
   "source": [
    "import pandas_gbq\n",
    "import pandas as pd\n",
    "import json\n",
    "import matplotlib.pyplot as plt\n",
    "import numpy as np"
   ]
  },
  {
   "cell_type": "code",
   "execution_count": 20,
   "metadata": {
    "collapsed": false,
    "jupyter": {
     "outputs_hidden": false
    },
    "pycharm": {
     "name": "#%%\n"
    }
   },
   "outputs": [],
   "source": [
    "q='''\n",
    "SELECT \n",
    "IFNULL(value.incentives.voucher_total_eur,0) as is_voucher_incentive_value, \n",
    "IFNULL(value.incentives.discount_dh_eur,0)+IFNULL(value.incentives.discount_other_eur,0) is_discount_incentive_value,\n",
    "IFNULL(value.incentives.joker_customer_discount_eur,0) is_joker_incentive_value,\n",
    "IFNULL(value.incentives.voucher_total_eur,0)+IFNULL(value.incentives.discount_dh_eur,0)+IFNULL(value.incentives.discount_other_eur,0)\n",
    "+IFNULL(value.incentives.joker_customer_discount_eur,0) as total_incentive_value,\n",
    "value.order.gmv_eur as basket_value, \n",
    "is_discount, \n",
    "is_voucher, \n",
    "is_joker,\n",
    "is_free_delivery \n",
    "FROM `fulfillment-dwh-production.curated_data_shared_coredata_business.orders` \n",
    "WHERE is_successful = true and global_entity_id=\"FO_NO\" and date(partition_date_local) = \"2023-12-12\"\n",
    "'''"
   ]
  },
  {
   "cell_type": "code",
   "execution_count": 21,
   "metadata": {
    "collapsed": false,
    "jupyter": {
     "outputs_hidden": false
    },
    "pycharm": {
     "name": "#%%\n"
    }
   },
   "outputs": [
    {
     "name": "stdout",
     "output_type": "stream",
     "text": [
      "Downloading: 100%|\u001B[32m██████████\u001B[0m|\n"
     ]
    }
   ],
   "source": [
    "df = pandas_gbq.read_gbq(q)"
   ]
  },
  {
   "cell_type": "code",
   "execution_count": 22,
   "metadata": {},
   "outputs": [
    {
     "data": {
      "text/html": [
       "<div>\n",
       "<style scoped>\n",
       "    .dataframe tbody tr th:only-of-type {\n",
       "        vertical-align: middle;\n",
       "    }\n",
       "\n",
       "    .dataframe tbody tr th {\n",
       "        vertical-align: top;\n",
       "    }\n",
       "\n",
       "    .dataframe thead th {\n",
       "        text-align: right;\n",
       "    }\n",
       "</style>\n",
       "<table border=\"1\" class=\"dataframe\">\n",
       "  <thead>\n",
       "    <tr style=\"text-align: right;\">\n",
       "      <th></th>\n",
       "      <th>is_voucher_incentive_value</th>\n",
       "      <th>is_discount_incentive_value</th>\n",
       "      <th>is_joker_incentive_value</th>\n",
       "      <th>total_incentive_value</th>\n",
       "      <th>basket_value</th>\n",
       "      <th>is_discount</th>\n",
       "      <th>is_voucher</th>\n",
       "      <th>is_joker</th>\n",
       "      <th>is_free_delivery</th>\n",
       "    </tr>\n",
       "  </thead>\n",
       "  <tbody>\n",
       "    <tr>\n",
       "      <th>23</th>\n",
       "      <td>0E-9</td>\n",
       "      <td>0E-9</td>\n",
       "      <td>3.800000000</td>\n",
       "      <td>3.800000000</td>\n",
       "      <td>13.010000000</td>\n",
       "      <td>True</td>\n",
       "      <td>False</td>\n",
       "      <td>True</td>\n",
       "      <td>True</td>\n",
       "    </tr>\n",
       "    <tr>\n",
       "      <th>57</th>\n",
       "      <td>0E-9</td>\n",
       "      <td>0E-9</td>\n",
       "      <td>3.800000000</td>\n",
       "      <td>3.800000000</td>\n",
       "      <td>13.690000000</td>\n",
       "      <td>True</td>\n",
       "      <td>False</td>\n",
       "      <td>True</td>\n",
       "      <td>True</td>\n",
       "    </tr>\n",
       "    <tr>\n",
       "      <th>74</th>\n",
       "      <td>0E-9</td>\n",
       "      <td>0E-9</td>\n",
       "      <td>3.800000000</td>\n",
       "      <td>3.800000000</td>\n",
       "      <td>13.770000000</td>\n",
       "      <td>True</td>\n",
       "      <td>False</td>\n",
       "      <td>True</td>\n",
       "      <td>True</td>\n",
       "    </tr>\n",
       "    <tr>\n",
       "      <th>93</th>\n",
       "      <td>0E-9</td>\n",
       "      <td>0E-9</td>\n",
       "      <td>8.450000000</td>\n",
       "      <td>8.450000000</td>\n",
       "      <td>28.560000000</td>\n",
       "      <td>True</td>\n",
       "      <td>False</td>\n",
       "      <td>True</td>\n",
       "      <td>True</td>\n",
       "    </tr>\n",
       "    <tr>\n",
       "      <th>152</th>\n",
       "      <td>0E-9</td>\n",
       "      <td>0E-9</td>\n",
       "      <td>3.800000000</td>\n",
       "      <td>3.800000000</td>\n",
       "      <td>14.280000000</td>\n",
       "      <td>True</td>\n",
       "      <td>False</td>\n",
       "      <td>True</td>\n",
       "      <td>True</td>\n",
       "    </tr>\n",
       "    <tr>\n",
       "      <th>...</th>\n",
       "      <td>...</td>\n",
       "      <td>...</td>\n",
       "      <td>...</td>\n",
       "      <td>...</td>\n",
       "      <td>...</td>\n",
       "      <td>...</td>\n",
       "      <td>...</td>\n",
       "      <td>...</td>\n",
       "      <td>...</td>\n",
       "    </tr>\n",
       "    <tr>\n",
       "      <th>14707</th>\n",
       "      <td>0E-9</td>\n",
       "      <td>0E-9</td>\n",
       "      <td>8.450000000</td>\n",
       "      <td>8.450000000</td>\n",
       "      <td>62.520000000</td>\n",
       "      <td>True</td>\n",
       "      <td>False</td>\n",
       "      <td>True</td>\n",
       "      <td>False</td>\n",
       "    </tr>\n",
       "    <tr>\n",
       "      <th>14719</th>\n",
       "      <td>0E-9</td>\n",
       "      <td>0E-9</td>\n",
       "      <td>8.450000000</td>\n",
       "      <td>8.450000000</td>\n",
       "      <td>58.630000000</td>\n",
       "      <td>True</td>\n",
       "      <td>False</td>\n",
       "      <td>True</td>\n",
       "      <td>False</td>\n",
       "    </tr>\n",
       "    <tr>\n",
       "      <th>14783</th>\n",
       "      <td>0E-9</td>\n",
       "      <td>0E-9</td>\n",
       "      <td>8.450000000</td>\n",
       "      <td>8.450000000</td>\n",
       "      <td>47.820000000</td>\n",
       "      <td>True</td>\n",
       "      <td>False</td>\n",
       "      <td>True</td>\n",
       "      <td>False</td>\n",
       "    </tr>\n",
       "    <tr>\n",
       "      <th>14819</th>\n",
       "      <td>0E-9</td>\n",
       "      <td>0E-9</td>\n",
       "      <td>8.450000000</td>\n",
       "      <td>8.450000000</td>\n",
       "      <td>52.470000000</td>\n",
       "      <td>True</td>\n",
       "      <td>False</td>\n",
       "      <td>True</td>\n",
       "      <td>False</td>\n",
       "    </tr>\n",
       "    <tr>\n",
       "      <th>14877</th>\n",
       "      <td>0E-9</td>\n",
       "      <td>0E-9</td>\n",
       "      <td>8.450000000</td>\n",
       "      <td>8.450000000</td>\n",
       "      <td>40.720000000</td>\n",
       "      <td>True</td>\n",
       "      <td>False</td>\n",
       "      <td>True</td>\n",
       "      <td>False</td>\n",
       "    </tr>\n",
       "  </tbody>\n",
       "</table>\n",
       "<p>561 rows × 9 columns</p>\n",
       "</div>"
      ],
      "text/plain": [
       "      is_voucher_incentive_value is_discount_incentive_value  \\\n",
       "23                          0E-9                        0E-9   \n",
       "57                          0E-9                        0E-9   \n",
       "74                          0E-9                        0E-9   \n",
       "93                          0E-9                        0E-9   \n",
       "152                         0E-9                        0E-9   \n",
       "...                          ...                         ...   \n",
       "14707                       0E-9                        0E-9   \n",
       "14719                       0E-9                        0E-9   \n",
       "14783                       0E-9                        0E-9   \n",
       "14819                       0E-9                        0E-9   \n",
       "14877                       0E-9                        0E-9   \n",
       "\n",
       "      is_joker_incentive_value total_incentive_value  basket_value  \\\n",
       "23                 3.800000000           3.800000000  13.010000000   \n",
       "57                 3.800000000           3.800000000  13.690000000   \n",
       "74                 3.800000000           3.800000000  13.770000000   \n",
       "93                 8.450000000           8.450000000  28.560000000   \n",
       "152                3.800000000           3.800000000  14.280000000   \n",
       "...                        ...                   ...           ...   \n",
       "14707              8.450000000           8.450000000  62.520000000   \n",
       "14719              8.450000000           8.450000000  58.630000000   \n",
       "14783              8.450000000           8.450000000  47.820000000   \n",
       "14819              8.450000000           8.450000000  52.470000000   \n",
       "14877              8.450000000           8.450000000  40.720000000   \n",
       "\n",
       "       is_discount  is_voucher  is_joker  is_free_delivery  \n",
       "23            True       False      True              True  \n",
       "57            True       False      True              True  \n",
       "74            True       False      True              True  \n",
       "93            True       False      True              True  \n",
       "152           True       False      True              True  \n",
       "...            ...         ...       ...               ...  \n",
       "14707         True       False      True             False  \n",
       "14719         True       False      True             False  \n",
       "14783         True       False      True             False  \n",
       "14819         True       False      True             False  \n",
       "14877         True       False      True             False  \n",
       "\n",
       "[561 rows x 9 columns]"
      ]
     },
     "execution_count": 22,
     "metadata": {},
     "output_type": "execute_result"
    }
   ],
   "source": [
    "df[df['is_joker']==True]\n",
    "#print(len(df[df['is_discount']==True]))"
   ]
  },
  {
   "cell_type": "code",
   "execution_count": 23,
   "metadata": {},
   "outputs": [],
   "source": [
    "def plot_hist(df, subset):\n",
    "    df_sub = df[df[subset]==True]\n",
    "    print(\"Share: %\", round(len(df_sub)*100/len(df), 2))\n",
    "    fig, ax = plt.subplots(figsize = (4,4))\n",
    "    ax.hist(df_sub['total_incentive_value'], alpha=0.5, label='total_incentive_value')\n",
    "    if subset!=\"is_free_delivery\":\n",
    "        ax.hist(df_sub[subset+'_incentive_value'], alpha=0.5, label='basket_value_incentive_specific')\n",
    "    ax.hist(df_sub['basket_value'], alpha=0.5, label='basket_value')\n",
    "    ax.legend(loc='upper right')\n",
    "    plt.show()\n",
    "\n",
    "def plot_all(df):\n",
    "    for col in df.columns:\n",
    "        if \"value\" not in col and \"is_\" in col and 'incentive_value' not in col:\n",
    "            print(col)\n",
    "            plot_hist(df, col)"
   ]
  },
  {
   "cell_type": "code",
   "execution_count": 24,
   "metadata": {},
   "outputs": [
    {
     "name": "stdout",
     "output_type": "stream",
     "text": [
      "is_discount\n",
      "Share: % 22.97\n"
     ]
    },
    {
     "data": {
      "image/png": "[encoded data removed]",
      "text/plain": [
       "<Figure size 400x400 with 1 Axes>"
      ]
     },
     "metadata": {},
     "output_type": "display_data"
    },
    {
     "name": "stdout",
     "output_type": "stream",
     "text": [
      "is_voucher\n",
      "Share: % 10.5\n"
     ]
    },
    {
     "data": {
      "image/png": "[encoded data removed]",
      "text/plain": [
       "<Figure size 400x400 with 1 Axes>"
      ]
     },
     "metadata": {},
     "output_type": "display_data"
    },
    {
     "name": "stdout",
     "output_type": "stream",
     "text": [
      "is_joker\n",
      "Share: % 3.4\n"
     ]
    },
    {
     "data": {
      "image/png": "[encoded data removed]",
      "text/plain": [
       "<Figure size 400x400 with 1 Axes>"
      ]
     },
     "metadata": {},
     "output_type": "display_data"
    },
    {
     "name": "stdout",
     "output_type": "stream",
     "text": [
      "is_free_delivery\n",
      "Share: % 28.78\n"
     ]
    },
    {
     "data": {
      "image/png": "[encoded data removed]",
      "text/plain": [
       "<Figure size 400x400 with 1 Axes>"
      ]
     },
     "metadata": {},
     "output_type": "display_data"
    }
   ],
   "source": [
    "plot_all(df) #EUR"
   ]
  },
  {
   "cell_type": "code",
   "execution_count": null,
   "metadata": {},
   "outputs": [],
   "source": [
    "df.columns"
   ]
  },
  {
   "cell_type": "markdown",
   "metadata": {},
   "source": [
    "### Columns description:\n",
    "#### Incentives\n",
    "- **is_discount**: True if some other discount was given (**and used?**) to the customer (other than voucher and joker), e.g. Meal deal / Happy hour / Free drink / Pizza Montag / Free Delivery etc.\t\n",
    "- **is_voucher**: True if a voucher code was used, when the customer types in a code during the order process to receive a price reduction.\t\n",
    "- **is_free_delivery**: True if there was no delivery fee for the order.\n",
    "- **is_joker**: True if the joker feature was used in the order process.\n",
    "- **gmv_eur**: Gross Merchandise Value (GMV) is a metric that measures your total value of sales over a certain period of time. In this case we are calculating for each order the total amount Paid compulsory by Customer (also called MPR after DH Subsidy). Note that for top-level reporting this is calculated on Successful Orders, but not necessarily on Commissionable Orders. Includes VAT, all fees and incentives. Excludes Rider tip. Amount the customer paid (after vouchers and discounts, including delivery fee, allowance amount and **excluding tips**) in Euro.\n",
    "\n",
    "For the discounts:\n",
    "- **is_voucher_incentive_value**: we take the value.incentives.voucher_total_eur value which includes both DH vouchers and non\n",
    "- **is_discount_incentive_value**: we sum discount_dh_eur and discount_other_eur because discount_total_eur also contains joker - also summing all the appropriate columns the result wil still differ from the \"total\" column due to rounding errors\n",
    "- **is_joker_incentive_value**: the value is not null only if the joker feature was used in the order process (joker is a customized incentive, time limited)\n",
    "- delivery free has no incentive value\n",
    "\n",
    "Potentially interesting columns:\n",
    "is_acquisition, is_corporate, is_qcommerce, value.incentives.wallet_total_eur\n",
    "\n",
    "A way to differentiate dh vs vendor voucher value is to look at the respective voucher amount (the column contains a voucher amount breakdown).\n",
    "\n",
    "To calculate the incentive value:\n",
    "vouchers.amount_eur field is similar to value.incentives.voucher_total_eur (field I actually used), but in amount_eur the voucher value is divided against each voucher code/ campaign name."
   ]
  },
  {
   "cell_type": "markdown",
   "metadata": {},
   "source": [
    "Commission data info comes a month later, however January did not seem to have data for the day - but we are not interested in commission data."
   ]
  },
  {
   "cell_type": "code",
   "execution_count": null,
   "metadata": {},
   "outputs": [],
   "source": []
  }
 ],
 "metadata": {
  "kernelspec": {
   "display_name": "Python 3 (ipykernel)",
   "language": "python",
   "name": "python3"
  },
  "language_info": {
   "codemirror_mode": {
    "name": "ipython",
    "version": 3
   },
   "file_extension": ".py",
   "mimetype": "text/x-python",
   "name": "python",
   "nbconvert_exporter": "python",
   "pygments_lexer": "ipython3",
   "version": "3.10.1"
  }
 },
 "nbformat": 4,
 "nbformat_minor": 4
}