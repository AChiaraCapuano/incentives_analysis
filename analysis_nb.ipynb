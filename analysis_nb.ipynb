{
 "cells": [
  {
   "cell_type": "code",
   "execution_count": 1,
   "metadata": {},
   "outputs": [],
   "source": [
    "import pandas_gbq\n",
    "import pandas as pd\n",
    "import json\n",
    "import matplotlib.pyplot as plt\n",
    "import numpy as np"
   ]
  },
  {
   "cell_type": "markdown",
   "metadata": {},
   "source": [
    "# Customer level [WIP]"
   ]
  },
  {
   "cell_type": "markdown",
   "metadata": {},
   "source": [
    "Investigate:\n",
    "- Avg Share of orders incentivised\n",
    "- Avg Incentive value used per incentivised order \n",
    "- Avg Incentive Amount/Basket Value (AOV + Delivery + Service Fee) \n"
   ]
  },
  {
   "cell_type": "code",
   "execution_count": 27,
   "metadata": {},
   "outputs": [],
   "source": [
    "q_cust = '''\n",
    "SELECT analytical_customer_id,global_entity_id, order_id,\n",
    "  CASE WHEN (is_discount OR is_voucher OR is_joker)\n",
    "    THEN 1 else 0 end as used_incentive,  \n",
    "  CASE WHEN is_free_delivery\n",
    "    THEN 1 else 0 end as has_free_delivery,  \n",
    "  IFNULL(value.incentives.voucher_total_eur,0)+IFNULL(value.incentives.discount_total_eur, 0) AS incentive_value,\n",
    "  value.order.gmv_eur as basket_value \n",
    "FROM `fulfillment-dwh-production.curated_data_shared_coredata_business.orders` left join unnest(addons.subscriptions) as ad\n",
    "WHERE is_successful = true and global_entity_id=\"FO_NO\" and date(partition_date_local) between \"2023-01-01\" and \"2023-12-31\" and is_corporate = false and ad.subscription_id is null\n",
    "'''"
   ]
  },
  {
   "cell_type": "code",
   "execution_count": 28,
   "metadata": {},
   "outputs": [
    {
     "name": "stdout",
     "output_type": "stream",
     "text": [
      "\n",
      "Downloading:   0%|\u001b[32m          \u001b[0m|\u001b[A\n",
      "Downloading:   3%|\u001b[32m▎         \u001b[0m|\u001b[A\n",
      "Downloading:   3%|\u001b[32m▎         \u001b[0m|\u001b[A\n",
      "Downloading:   5%|\u001b[32m▌         \u001b[0m|\u001b[A\n",
      "Downloading:   5%|\u001b[32m▌         \u001b[0m|\u001b[A\n",
      "Downloading:   8%|\u001b[32m▊         \u001b[0m|\u001b[A\n",
      "Downloading:   8%|\u001b[32m▊         \u001b[0m|\u001b[A\n",
      "Downloading:  10%|\u001b[32m█         \u001b[0m|\u001b[A\n",
      "Downloading:  10%|\u001b[32m█         \u001b[0m|\u001b[A\n",
      "Downloading:  13%|\u001b[32m█▎        \u001b[0m|\u001b[A\n",
      "Downloading:  13%|\u001b[32m█▎        \u001b[0m|\u001b[A\n",
      "Downloading:  15%|\u001b[32m█▌        \u001b[0m|\u001b[A\n",
      "Downloading:  15%|\u001b[32m█▌        \u001b[0m|\u001b[A\n",
      "Downloading:  18%|\u001b[32m█▊        \u001b[0m|\u001b[A\n",
      "Downloading:  18%|\u001b[32m█▊        \u001b[0m|\u001b[A\n",
      "Downloading:  21%|\u001b[32m██        \u001b[0m|\u001b[A\n",
      "Downloading:  21%|\u001b[32m██        \u001b[0m|\u001b[A\n",
      "Downloading:  23%|\u001b[32m██▎       \u001b[0m|\u001b[A\n",
      "Downloading:  23%|\u001b[32m██▎       \u001b[0m|\u001b[A\n",
      "Downloading:  26%|\u001b[32m██▌       \u001b[0m|\u001b[A\n",
      "Downloading:  26%|\u001b[32m██▌       \u001b[0m|\u001b[A\n",
      "Downloading:  28%|\u001b[32m██▊       \u001b[0m|\u001b[A\n",
      "Downloading:  28%|\u001b[32m██▊       \u001b[0m|\u001b[A\n",
      "Downloading:  31%|\u001b[32m███       \u001b[0m|\u001b[A\n",
      "Downloading:  31%|\u001b[32m███       \u001b[0m|\u001b[A\n",
      "Downloading:  33%|\u001b[32m███▎      \u001b[0m|\u001b[A\n",
      "Downloading:  33%|\u001b[32m███▎      \u001b[0m|\u001b[A\n",
      "Downloading:  36%|\u001b[32m███▌      \u001b[0m|\u001b[A\n",
      "Downloading:  36%|\u001b[32m███▌      \u001b[0m|\u001b[A\n",
      "Downloading:  38%|\u001b[32m███▊      \u001b[0m|\u001b[A\n",
      "Downloading:  38%|\u001b[32m███▊      \u001b[0m|\u001b[A\n",
      "Downloading:  41%|\u001b[32m████      \u001b[0m|\u001b[A\n",
      "Downloading:  41%|\u001b[32m████      \u001b[0m|\u001b[A\n",
      "Downloading:  44%|\u001b[32m████▎     \u001b[0m|\u001b[A\n",
      "Downloading:  44%|\u001b[32m████▎     \u001b[0m|\u001b[A\n",
      "Downloading:  46%|\u001b[32m████▌     \u001b[0m|\u001b[A\n",
      "Downloading:  46%|\u001b[32m████▌     \u001b[0m|\u001b[A\n",
      "Downloading:  49%|\u001b[32m████▉     \u001b[0m|\u001b[A\n",
      "Downloading:  49%|\u001b[32m████▉     \u001b[0m|\u001b[A\n",
      "Downloading:  51%|\u001b[32m█████▏    \u001b[0m|\u001b[A\n",
      "Downloading:  51%|\u001b[32m█████▏    \u001b[0m|\u001b[A\n",
      "Downloading:  54%|\u001b[32m█████▍    \u001b[0m|\u001b[A\n",
      "Downloading:  54%|\u001b[32m█████▍    \u001b[0m|\u001b[A\n",
      "Downloading:  56%|\u001b[32m█████▋    \u001b[0m|\u001b[A\n",
      "Downloading:  56%|\u001b[32m█████▋    \u001b[0m|\u001b[A\n",
      "Downloading:  59%|\u001b[32m█████▉    \u001b[0m|\u001b[A\n",
      "Downloading:  59%|\u001b[32m█████▉    \u001b[0m|\u001b[A\n",
      "Downloading:  62%|\u001b[32m██████▏   \u001b[0m|\u001b[A\n",
      "Downloading:  62%|\u001b[32m██████▏   \u001b[0m|\u001b[A\n",
      "Downloading:  64%|\u001b[32m██████▍   \u001b[0m|\u001b[A\n",
      "Downloading:  64%|\u001b[32m██████▍   \u001b[0m|\u001b[A\n",
      "Downloading:  67%|\u001b[32m██████▋   \u001b[0m|\u001b[A\n",
      "Downloading:  67%|\u001b[32m██████▋   \u001b[0m|\u001b[A\n",
      "Downloading:  69%|\u001b[32m██████▉   \u001b[0m|\u001b[A\n",
      "Downloading:  69%|\u001b[32m██████▉   \u001b[0m|\u001b[A\n",
      "Downloading:  72%|\u001b[32m███████▏  \u001b[0m|\u001b[A\n",
      "Downloading:  72%|\u001b[32m███████▏  \u001b[0m|\u001b[A\n",
      "Downloading:  74%|\u001b[32m███████▍  \u001b[0m|\u001b[A\n",
      "Downloading:  74%|\u001b[32m███████▍  \u001b[0m|\u001b[A\n",
      "Downloading:  77%|\u001b[32m███████▋  \u001b[0m|\u001b[A\n",
      "Downloading:  77%|\u001b[32m███████▋  \u001b[0m|\u001b[A\n",
      "Downloading:  80%|\u001b[32m███████▉  \u001b[0m|\u001b[A\n",
      "Downloading:  80%|\u001b[32m███████▉  \u001b[0m|\u001b[A\n",
      "Downloading:  82%|\u001b[32m████████▏ \u001b[0m|\u001b[A\n",
      "Downloading:  82%|\u001b[32m████████▏ \u001b[0m|\u001b[A\n",
      "Downloading:  85%|\u001b[32m████████▍ \u001b[0m|\u001b[A\n",
      "Downloading:  85%|\u001b[32m████████▍ \u001b[0m|\u001b[A\n",
      "Downloading:  87%|\u001b[32m████████▋ \u001b[0m|\u001b[A\n",
      "Downloading:  87%|\u001b[32m████████▋ \u001b[0m|\u001b[A\n",
      "Downloading:  90%|\u001b[32m████████▉ \u001b[0m|\u001b[A\n",
      "Downloading:  90%|\u001b[32m████████▉ \u001b[0m|\u001b[A\n",
      "Downloading:  92%|\u001b[32m█████████▏\u001b[0m|\u001b[A\n",
      "Downloading:  92%|\u001b[32m█████████▏\u001b[0m|\u001b[A\n",
      "Downloading:  95%|\u001b[32m█████████▌\u001b[0m|\u001b[A\n",
      "Downloading:  95%|\u001b[32m█████████▌\u001b[0m|\u001b[A\n",
      "Downloading:  98%|\u001b[32m█████████▊\u001b[0m|\u001b[A\n",
      "Downloading:  98%|\u001b[32m█████████▊\u001b[0m|\u001b[A\n",
      "Downloading: 100%|\u001b[32m██████████\u001b[0m|\u001b[A\n"
     ]
    }
   ],
   "source": [
    "df_customer = pandas_gbq.read_gbq(q_cust)"
   ]
  },
  {
   "cell_type": "code",
   "execution_count": 29,
   "metadata": {},
   "outputs": [
    {
     "data": {
      "text/plain": [
       "Index(['analytical_customer_id', 'global_entity_id', 'order_id',\n",
       "       'used_incentive', 'has_free_delivery', 'incentive_value',\n",
       "       'basket_value'],\n",
       "      dtype='object')"
      ]
     },
     "execution_count": 29,
     "metadata": {},
     "output_type": "execute_result"
    }
   ],
   "source": [
    "df_customer.columns"
   ]
  },
  {
   "cell_type": "code",
   "execution_count": 33,
   "metadata": {},
   "outputs": [
    {
     "data": {
      "text/plain": [
       "754216"
      ]
     },
     "execution_count": 33,
     "metadata": {},
     "output_type": "execute_result"
    }
   ],
   "source": [
    "df_customer['analytical_customer_id'].nunique()"
   ]
  },
  {
   "cell_type": "markdown",
   "metadata": {},
   "source": [
    "## Avg share of orders incentivized"
   ]
  },
  {
   "cell_type": "code",
   "execution_count": 85,
   "metadata": {},
   "outputs": [],
   "source": [
    "df_incentivized = df_customer.groupby('analytical_customer_id')[['used_incentive', 'has_free_delivery']].mean().reset_index()"
   ]
  },
  {
   "cell_type": "code",
   "execution_count": 86,
   "metadata": {},
   "outputs": [
    {
     "data": {
      "text/plain": [
       "0.5627021967181816"
      ]
     },
     "execution_count": 86,
     "metadata": {},
     "output_type": "execute_result"
    }
   ],
   "source": [
    "len(df_incentivized[df_incentivized['used_incentive']>0])/len(df_incentivized)"
   ]
  },
  {
   "cell_type": "markdown",
   "metadata": {},
   "source": [
    "Distribution of incentivized orders per customer:"
   ]
  },
  {
   "cell_type": "code",
   "execution_count": 93,
   "metadata": {},
   "outputs": [
    {
     "data": {
      "image/png": "[encoded data removed]",
      "text/plain": [
       "<Figure size 640x480 with 1 Axes>"
      ]
     },
     "metadata": {},
     "output_type": "display_data"
    }
   ],
   "source": [
    "plt.hist(df_incentivized['used_incentive']);"
   ]
  },
  {
   "cell_type": "code",
   "execution_count": 88,
   "metadata": {},
   "outputs": [
    {
     "data": {
      "text/plain": [
       "0.6425692374598259"
      ]
     },
     "execution_count": 88,
     "metadata": {},
     "output_type": "execute_result"
    }
   ],
   "source": [
    "len(df_incentivized[df_incentivized['has_free_delivery']>0])/len(df_incentivized)"
   ]
  },
  {
   "cell_type": "markdown",
   "metadata": {},
   "source": [
    "Distribution of free delivery orders per customer:"
   ]
  },
  {
   "cell_type": "code",
   "execution_count": 92,
   "metadata": {},
   "outputs": [
    {
     "data": {
      "image/png": "[encoded data removed]",
      "text/plain": [
       "<Figure size 640x480 with 1 Axes>"
      ]
     },
     "metadata": {},
     "output_type": "display_data"
    }
   ],
   "source": [
    "plt.hist(df_incentivized['has_free_delivery']);"
   ]
  },
  {
   "cell_type": "markdown",
   "metadata": {},
   "source": [
    "In one year, 56% customers used an incentive at least once, and 64% of them placed orders with free delivery."
   ]
  },
  {
   "cell_type": "markdown",
   "metadata": {},
   "source": [
    "## Avg incentive value per order"
   ]
  },
  {
   "cell_type": "code",
   "execution_count": 53,
   "metadata": {},
   "outputs": [],
   "source": [
    "df_avg_order = df_customer[df_customer['used_incentive']==1].groupby('analytical_customer_id')['incentive_value'].mean().reset_index()"
   ]
  },
  {
   "cell_type": "markdown",
   "metadata": {},
   "source": [
    "Distribution of incentive values:"
   ]
  },
  {
   "cell_type": "code",
   "execution_count": 76,
   "metadata": {},
   "outputs": [
    {
     "data": {
      "image/png": "[encoded data removed]",
      "text/plain": [
       "<Figure size 640x480 with 1 Axes>"
      ]
     },
     "metadata": {},
     "output_type": "display_data"
    }
   ],
   "source": [
    "plt.hist(df_avg_order[df_avg_order['incentive_value']<80]['incentive_value'], bins=50);"
   ]
  },
  {
   "cell_type": "markdown",
   "metadata": {},
   "source": [
    "## Avg incentive amount basket"
   ]
  },
  {
   "cell_type": "code",
   "execution_count": 56,
   "metadata": {},
   "outputs": [],
   "source": [
    "df_avg_basket = df_customer[df_customer['used_incentive']==1].groupby('analytical_customer_id')['basket_value'].mean().reset_index()"
   ]
  },
  {
   "cell_type": "code",
   "execution_count": 78,
   "metadata": {},
   "outputs": [
    {
     "data": {
      "image/png": "[encoded data removed]",
      "text/plain": [
       "<Figure size 640x480 with 1 Axes>"
      ]
     },
     "metadata": {},
     "output_type": "display_data"
    }
   ],
   "source": [
    "plt.hist(df_avg_basket[df_avg_basket['basket_value']<150]['basket_value'], bins=50);"
   ]
  },
  {
   "cell_type": "code",
   "execution_count": 217,
   "metadata": {},
   "outputs": [],
   "source": [
    "def min_max_norm(df, col):\n",
    "    return (df[col]-df[col].min())/(df[col].max()-df[col].min())"
   ]
  },
  {
   "cell_type": "code",
   "execution_count": 218,
   "metadata": {},
   "outputs": [],
   "source": [
    "df_median_sol_ = df_incentivized.merge(df_avg_basket, on='analytical_customer_id')\n",
    "df_median_sol = df_median_sol_.merge(df_avg_order, on='analytical_customer_id')"
   ]
  },
  {
   "cell_type": "markdown",
   "metadata": {},
   "source": [
    "Simple solution:"
   ]
  },
  {
   "cell_type": "code",
   "execution_count": 219,
   "metadata": {},
   "outputs": [],
   "source": [
    "df_median_sol['simple_score'] = 0.5*df_median_sol['used_incentive']+0.3*min_max_norm(df_median_sol, 'incentive_value')+0.3*min_max_norm(df_median_sol, 'basket_value')"
   ]
  },
  {
   "cell_type": "code",
   "execution_count": 220,
   "metadata": {},
   "outputs": [
    {
     "name": "stdout",
     "output_type": "stream",
     "text": [
      "0.013731896896026606 0.9733129846559974\n"
     ]
    }
   ],
   "source": [
    "print(df_median_sol['simple_score'].min(), df_median_sol['simple_score'].max())"
   ]
  },
  {
   "cell_type": "code",
   "execution_count": 221,
   "metadata": {},
   "outputs": [
    {
     "data": {
      "image/png": "[encoded data removed]",
      "text/plain": [
       "<Figure size 640x480 with 1 Axes>"
      ]
     },
     "metadata": {},
     "output_type": "display_data"
    }
   ],
   "source": [
    "plt.hist(df_median_sol['simple_score']);"
   ]
  },
  {
   "cell_type": "markdown",
   "metadata": {},
   "source": [
    "Median solution:"
   ]
  },
  {
   "cell_type": "code",
   "execution_count": 222,
   "metadata": {},
   "outputs": [],
   "source": [
    "order_value_median = df_median_sol['incentive_value'].median()\n",
    "basket_value_median = df_median_sol['basket_value'].median()\n",
    "incentive_use_median = df_median_sol['used_incentive'].median()"
   ]
  },
  {
   "cell_type": "code",
   "execution_count": 223,
   "metadata": {},
   "outputs": [],
   "source": [
    "df_median_sol['order_score']= df_median_sol['incentive_value']-order_value_median\n",
    "df_median_sol['basket_score']= df_median_sol['basket_value']-basket_value_median\n",
    "df_median_sol['incentive_use_score']= df_median_sol['used_incentive']-incentive_use_median"
   ]
  },
  {
   "cell_type": "code",
   "execution_count": 224,
   "metadata": {},
   "outputs": [],
   "source": [
    "df_median_sol['median_score'] = 0.3*df_median_sol['order_score']+0.2*df_median_sol['basket_score']+0.5*df_median_sol['incentive_use_score']\n",
    "df_median_sol['median_score_normalized'] = 2 * min_max_norm(df_median_sol, 'median_score')-1"
   ]
  },
  {
   "cell_type": "code",
   "execution_count": 206,
   "metadata": {},
   "outputs": [
    {
     "name": "stdout",
     "output_type": "stream",
     "text": [
      "-1.0 1.0\n"
     ]
    }
   ],
   "source": [
    "print(df_median_sol['median_score_normalized'].min(), df_median_sol['median_score_normalized'].max())"
   ]
  },
  {
   "cell_type": "markdown",
   "metadata": {},
   "source": [
    "Median score distribution:"
   ]
  },
  {
   "cell_type": "code",
   "execution_count": 226,
   "metadata": {},
   "outputs": [
    {
     "data": {
      "image/png": "[encoded data removed]",
      "text/plain": [
       "<Figure size 640x480 with 1 Axes>"
      ]
     },
     "metadata": {},
     "output_type": "display_data"
    }
   ],
   "source": [
    "plt.hist(df_median_sol['median_score'], alpha=0.5, label='median_score', bins=50);"
   ]
  },
  {
   "cell_type": "markdown",
   "metadata": {},
   "source": [
    "Simple vs median score normalized - the median distribution reflects the non normalized one"
   ]
  },
  {
   "cell_type": "code",
   "execution_count": 227,
   "metadata": {},
   "outputs": [
    {
     "data": {
      "image/png": "[encoded data removed]",
      "text/plain": [
       "<Figure size 640x480 with 1 Axes>"
      ]
     },
     "metadata": {},
     "output_type": "display_data"
    }
   ],
   "source": [
    "plt.hist(df_median_sol['simple_score'], alpha=0.5, label='simple_score', bins=50);\n",
    "plt.hist(df_median_sol['median_score_normalized'], alpha=0.5, label='median_score_normalized', bins=50);"
   ]
  },
  {
   "cell_type": "code",
   "execution_count": 215,
   "metadata": {},
   "outputs": [
    {
     "data": {
      "text/html": [
       "<div>\n",
       "<style scoped>\n",
       "    .dataframe tbody tr th:only-of-type {\n",
       "        vertical-align: middle;\n",
       "    }\n",
       "\n",
       "    .dataframe tbody tr th {\n",
       "        vertical-align: top;\n",
       "    }\n",
       "\n",
       "    .dataframe thead th {\n",
       "        text-align: right;\n",
       "    }\n",
       "</style>\n",
       "<table border=\"1\" class=\"dataframe\">\n",
       "  <thead>\n",
       "    <tr style=\"text-align: right;\">\n",
       "      <th></th>\n",
       "      <th>used_incentive</th>\n",
       "      <th>incentive_value</th>\n",
       "      <th>basket_value</th>\n",
       "      <th>score</th>\n",
       "      <th>simple_score</th>\n",
       "      <th>median_score_normalized</th>\n",
       "    </tr>\n",
       "  </thead>\n",
       "  <tbody>\n",
       "    <tr>\n",
       "      <th>276554</th>\n",
       "      <td>0.962963</td>\n",
       "      <td>15.497308</td>\n",
       "      <td>14.335769</td>\n",
       "      <td>0.142494</td>\n",
       "      <td>0.500023</td>\n",
       "      <td>-0.910134</td>\n",
       "    </tr>\n",
       "    <tr>\n",
       "      <th>203353</th>\n",
       "      <td>0.972973</td>\n",
       "      <td>6.610278</td>\n",
       "      <td>23.583333</td>\n",
       "      <td>-0.669097</td>\n",
       "      <td>0.500159</td>\n",
       "      <td>-0.919615</td>\n",
       "    </tr>\n",
       "    <tr>\n",
       "      <th>347934</th>\n",
       "      <td>0.958333</td>\n",
       "      <td>15.200435</td>\n",
       "      <td>22.605217</td>\n",
       "      <td>1.705007</td>\n",
       "      <td>0.500172</td>\n",
       "      <td>-0.891882</td>\n",
       "    </tr>\n",
       "    <tr>\n",
       "      <th>109407</th>\n",
       "      <td>0.956522</td>\n",
       "      <td>14.453182</td>\n",
       "      <td>27.477273</td>\n",
       "      <td>2.454337</td>\n",
       "      <td>0.500208</td>\n",
       "      <td>-0.883129</td>\n",
       "    </tr>\n",
       "    <tr>\n",
       "      <th>266970</th>\n",
       "      <td>0.954545</td>\n",
       "      <td>18.510000</td>\n",
       "      <td>20.404286</td>\n",
       "      <td>2.255797</td>\n",
       "      <td>0.500502</td>\n",
       "      <td>-0.885448</td>\n",
       "    </tr>\n",
       "    <tr>\n",
       "      <th>...</th>\n",
       "      <td>...</td>\n",
       "      <td>...</td>\n",
       "      <td>...</td>\n",
       "      <td>...</td>\n",
       "      <td>...</td>\n",
       "      <td>...</td>\n",
       "    </tr>\n",
       "    <tr>\n",
       "      <th>45569</th>\n",
       "      <td>1.0</td>\n",
       "      <td>1.600000</td>\n",
       "      <td>15.200000</td>\n",
       "      <td>-3.835333</td>\n",
       "      <td>0.506442</td>\n",
       "      <td>-0.9566</td>\n",
       "    </tr>\n",
       "    <tr>\n",
       "      <th>280664</th>\n",
       "      <td>1.0</td>\n",
       "      <td>5.570000</td>\n",
       "      <td>4.480000</td>\n",
       "      <td>-4.788333</td>\n",
       "      <td>0.506442</td>\n",
       "      <td>-0.967732</td>\n",
       "    </tr>\n",
       "    <tr>\n",
       "      <th>396917</th>\n",
       "      <td>1.0</td>\n",
       "      <td>7.000000</td>\n",
       "      <td>0.620000</td>\n",
       "      <td>-5.131333</td>\n",
       "      <td>0.506443</td>\n",
       "      <td>-0.971739</td>\n",
       "    </tr>\n",
       "    <tr>\n",
       "      <th>86441</th>\n",
       "      <td>1.0</td>\n",
       "      <td>6.790000</td>\n",
       "      <td>1.190000</td>\n",
       "      <td>-5.080333</td>\n",
       "      <td>0.506444</td>\n",
       "      <td>-0.971143</td>\n",
       "    </tr>\n",
       "    <tr>\n",
       "      <th>231461</th>\n",
       "      <td>1.0</td>\n",
       "      <td>4.850000</td>\n",
       "      <td>6.430000</td>\n",
       "      <td>-4.614333</td>\n",
       "      <td>0.506444</td>\n",
       "      <td>-0.9657</td>\n",
       "    </tr>\n",
       "  </tbody>\n",
       "</table>\n",
       "<p>1000 rows × 6 columns</p>\n",
       "</div>"
      ],
      "text/plain": [
       "        used_incentive  incentive_value  basket_value     score  simple_score  \\\n",
       "276554        0.962963        15.497308     14.335769  0.142494      0.500023   \n",
       "203353        0.972973         6.610278     23.583333 -0.669097      0.500159   \n",
       "347934        0.958333        15.200435     22.605217  1.705007      0.500172   \n",
       "109407        0.956522        14.453182     27.477273  2.454337      0.500208   \n",
       "266970        0.954545        18.510000     20.404286  2.255797      0.500502   \n",
       "...                ...              ...           ...       ...           ...   \n",
       "45569              1.0         1.600000     15.200000 -3.835333      0.506442   \n",
       "280664             1.0         5.570000      4.480000 -4.788333      0.506442   \n",
       "396917             1.0         7.000000      0.620000 -5.131333      0.506443   \n",
       "86441              1.0         6.790000      1.190000 -5.080333      0.506444   \n",
       "231461             1.0         4.850000      6.430000 -4.614333      0.506444   \n",
       "\n",
       "        median_score_normalized  \n",
       "276554                -0.910134  \n",
       "203353                -0.919615  \n",
       "347934                -0.891882  \n",
       "109407                -0.883129  \n",
       "266970                -0.885448  \n",
       "...                         ...  \n",
       "45569                   -0.9566  \n",
       "280664                -0.967732  \n",
       "396917                -0.971739  \n",
       "86441                 -0.971143  \n",
       "231461                  -0.9657  \n",
       "\n",
       "[1000 rows x 6 columns]"
      ]
     },
     "execution_count": 215,
     "metadata": {},
     "output_type": "execute_result"
    }
   ],
   "source": [
    "df_median_sol[(df_median_sol['simple_score']>0.5) & (df_median_sol['simple_score']<0.55)]\\\n",
    "[['used_incentive', 'incentive_value', 'basket_value', 'score', 'simple_score', 'median_score_normalized']].sort_values('simple_score').head(1000)"
   ]
  },
  {
   "cell_type": "markdown",
   "metadata": {},
   "source": [
    "- With the median score, the people that used incentives only one with the orders are actually penalized, while with the simple score they have the highest propensity to use incentives."
   ]
  },
  {
   "cell_type": "markdown",
   "metadata": {},
   "source": [
    "# Order level"
   ]
  },
  {
   "cell_type": "code",
   "execution_count": 20,
   "metadata": {
    "collapsed": false,
    "jupyter": {
     "outputs_hidden": false
    },
    "pycharm": {
     "name": "#%%\n"
    }
   },
   "outputs": [],
   "source": [
    "q='''\n",
    "SELECT \n",
    "IFNULL(value.incentives.voucher_total_eur,0) as is_voucher_incentive_value, \n",
    "IFNULL(value.incentives.discount_dh_eur,0)+IFNULL(value.incentives.discount_other_eur,0) is_discount_incentive_value,\n",
    "IFNULL(value.incentives.joker_customer_discount_eur,0) is_joker_incentive_value,\n",
    "IFNULL(value.incentives.voucher_total_eur,0)+IFNULL(value.incentives.discount_dh_eur,0)+IFNULL(value.incentives.discount_other_eur,0)\n",
    "+IFNULL(value.incentives.joker_customer_discount_eur,0) as total_incentive_value,\n",
    "value.order.gmv_eur as basket_value, \n",
    "is_discount, \n",
    "is_voucher, \n",
    "is_joker,\n",
    "is_free_delivery \n",
    "FROM `fulfillment-dwh-production.curated_data_shared_coredata_business.orders` \n",
    "WHERE is_successful = true and global_entity_id=\"FO_NO\" and date(partition_date_local) = \"2023-12-12\"\n",
    "'''"
   ]
  },
  {
   "cell_type": "code",
   "execution_count": 21,
   "metadata": {
    "collapsed": false,
    "jupyter": {
     "outputs_hidden": false
    },
    "pycharm": {
     "name": "#%%\n"
    }
   },
   "outputs": [
    {
     "name": "stdout",
     "output_type": "stream",
     "text": [
      "Downloading: 100%|\u001b[32m██████████\u001b[0m|\n"
     ]
    }
   ],
   "source": [
    "df = pandas_gbq.read_gbq(q)"
   ]
  },
  {
   "cell_type": "code",
   "execution_count": 22,
   "metadata": {},
   "outputs": [
    {
     "data": {
      "text/html": [
       "<div>\n",
       "<style scoped>\n",
       "    .dataframe tbody tr th:only-of-type {\n",
       "        vertical-align: middle;\n",
       "    }\n",
       "\n",
       "    .dataframe tbody tr th {\n",
       "        vertical-align: top;\n",
       "    }\n",
       "\n",
       "    .dataframe thead th {\n",
       "        text-align: right;\n",
       "    }\n",
       "</style>\n",
       "<table border=\"1\" class=\"dataframe\">\n",
       "  <thead>\n",
       "    <tr style=\"text-align: right;\">\n",
       "      <th></th>\n",
       "      <th>is_voucher_incentive_value</th>\n",
       "      <th>is_discount_incentive_value</th>\n",
       "      <th>is_joker_incentive_value</th>\n",
       "      <th>total_incentive_value</th>\n",
       "      <th>basket_value</th>\n",
       "      <th>is_discount</th>\n",
       "      <th>is_voucher</th>\n",
       "      <th>is_joker</th>\n",
       "      <th>is_free_delivery</th>\n",
       "    </tr>\n",
       "  </thead>\n",
       "  <tbody>\n",
       "    <tr>\n",
       "      <th>23</th>\n",
       "      <td>0E-9</td>\n",
       "      <td>0E-9</td>\n",
       "      <td>3.800000000</td>\n",
       "      <td>3.800000000</td>\n",
       "      <td>13.010000000</td>\n",
       "      <td>True</td>\n",
       "      <td>False</td>\n",
       "      <td>True</td>\n",
       "      <td>True</td>\n",
       "    </tr>\n",
       "    <tr>\n",
       "      <th>57</th>\n",
       "      <td>0E-9</td>\n",
       "      <td>0E-9</td>\n",
       "      <td>3.800000000</td>\n",
       "      <td>3.800000000</td>\n",
       "      <td>13.690000000</td>\n",
       "      <td>True</td>\n",
       "      <td>False</td>\n",
       "      <td>True</td>\n",
       "      <td>True</td>\n",
       "    </tr>\n",
       "    <tr>\n",
       "      <th>74</th>\n",
       "      <td>0E-9</td>\n",
       "      <td>0E-9</td>\n",
       "      <td>3.800000000</td>\n",
       "      <td>3.800000000</td>\n",
       "      <td>13.770000000</td>\n",
       "      <td>True</td>\n",
       "      <td>False</td>\n",
       "      <td>True</td>\n",
       "      <td>True</td>\n",
       "    </tr>\n",
       "    <tr>\n",
       "      <th>93</th>\n",
       "      <td>0E-9</td>\n",
       "      <td>0E-9</td>\n",
       "      <td>8.450000000</td>\n",
       "      <td>8.450000000</td>\n",
       "      <td>28.560000000</td>\n",
       "      <td>True</td>\n",
       "      <td>False</td>\n",
       "      <td>True</td>\n",
       "      <td>True</td>\n",
       "    </tr>\n",
       "    <tr>\n",
       "      <th>152</th>\n",
       "      <td>0E-9</td>\n",
       "      <td>0E-9</td>\n",
       "      <td>3.800000000</td>\n",
       "      <td>3.800000000</td>\n",
       "      <td>14.280000000</td>\n",
       "      <td>True</td>\n",
       "      <td>False</td>\n",
       "      <td>True</td>\n",
       "      <td>True</td>\n",
       "    </tr>\n",
       "    <tr>\n",
       "      <th>...</th>\n",
       "      <td>...</td>\n",
       "      <td>...</td>\n",
       "      <td>...</td>\n",
       "      <td>...</td>\n",
       "      <td>...</td>\n",
       "      <td>...</td>\n",
       "      <td>...</td>\n",
       "      <td>...</td>\n",
       "      <td>...</td>\n",
       "    </tr>\n",
       "    <tr>\n",
       "      <th>14707</th>\n",
       "      <td>0E-9</td>\n",
       "      <td>0E-9</td>\n",
       "      <td>8.450000000</td>\n",
       "      <td>8.450000000</td>\n",
       "      <td>62.520000000</td>\n",
       "      <td>True</td>\n",
       "      <td>False</td>\n",
       "      <td>True</td>\n",
       "      <td>False</td>\n",
       "    </tr>\n",
       "    <tr>\n",
       "      <th>14719</th>\n",
       "      <td>0E-9</td>\n",
       "      <td>0E-9</td>\n",
       "      <td>8.450000000</td>\n",
       "      <td>8.450000000</td>\n",
       "      <td>58.630000000</td>\n",
       "      <td>True</td>\n",
       "      <td>False</td>\n",
       "      <td>True</td>\n",
       "      <td>False</td>\n",
       "    </tr>\n",
       "    <tr>\n",
       "      <th>14783</th>\n",
       "      <td>0E-9</td>\n",
       "      <td>0E-9</td>\n",
       "      <td>8.450000000</td>\n",
       "      <td>8.450000000</td>\n",
       "      <td>47.820000000</td>\n",
       "      <td>True</td>\n",
       "      <td>False</td>\n",
       "      <td>True</td>\n",
       "      <td>False</td>\n",
       "    </tr>\n",
       "    <tr>\n",
       "      <th>14819</th>\n",
       "      <td>0E-9</td>\n",
       "      <td>0E-9</td>\n",
       "      <td>8.450000000</td>\n",
       "      <td>8.450000000</td>\n",
       "      <td>52.470000000</td>\n",
       "      <td>True</td>\n",
       "      <td>False</td>\n",
       "      <td>True</td>\n",
       "      <td>False</td>\n",
       "    </tr>\n",
       "    <tr>\n",
       "      <th>14877</th>\n",
       "      <td>0E-9</td>\n",
       "      <td>0E-9</td>\n",
       "      <td>8.450000000</td>\n",
       "      <td>8.450000000</td>\n",
       "      <td>40.720000000</td>\n",
       "      <td>True</td>\n",
       "      <td>False</td>\n",
       "      <td>True</td>\n",
       "      <td>False</td>\n",
       "    </tr>\n",
       "  </tbody>\n",
       "</table>\n",
       "<p>561 rows × 9 columns</p>\n",
       "</div>"
      ],
      "text/plain": [
       "      is_voucher_incentive_value is_discount_incentive_value  \\\n",
       "23                          0E-9                        0E-9   \n",
       "57                          0E-9                        0E-9   \n",
       "74                          0E-9                        0E-9   \n",
       "93                          0E-9                        0E-9   \n",
       "152                         0E-9                        0E-9   \n",
       "...                          ...                         ...   \n",
       "14707                       0E-9                        0E-9   \n",
       "14719                       0E-9                        0E-9   \n",
       "14783                       0E-9                        0E-9   \n",
       "14819                       0E-9                        0E-9   \n",
       "14877                       0E-9                        0E-9   \n",
       "\n",
       "      is_joker_incentive_value total_incentive_value  basket_value  \\\n",
       "23                 3.800000000           3.800000000  13.010000000   \n",
       "57                 3.800000000           3.800000000  13.690000000   \n",
       "74                 3.800000000           3.800000000  13.770000000   \n",
       "93                 8.450000000           8.450000000  28.560000000   \n",
       "152                3.800000000           3.800000000  14.280000000   \n",
       "...                        ...                   ...           ...   \n",
       "14707              8.450000000           8.450000000  62.520000000   \n",
       "14719              8.450000000           8.450000000  58.630000000   \n",
       "14783              8.450000000           8.450000000  47.820000000   \n",
       "14819              8.450000000           8.450000000  52.470000000   \n",
       "14877              8.450000000           8.450000000  40.720000000   \n",
       "\n",
       "       is_discount  is_voucher  is_joker  is_free_delivery  \n",
       "23            True       False      True              True  \n",
       "57            True       False      True              True  \n",
       "74            True       False      True              True  \n",
       "93            True       False      True              True  \n",
       "152           True       False      True              True  \n",
       "...            ...         ...       ...               ...  \n",
       "14707         True       False      True             False  \n",
       "14719         True       False      True             False  \n",
       "14783         True       False      True             False  \n",
       "14819         True       False      True             False  \n",
       "14877         True       False      True             False  \n",
       "\n",
       "[561 rows x 9 columns]"
      ]
     },
     "execution_count": 22,
     "metadata": {},
     "output_type": "execute_result"
    }
   ],
   "source": [
    "df[df['is_joker']==True]\n",
    "#print(len(df[df['is_discount']==True]))"
   ]
  },
  {
   "cell_type": "code",
   "execution_count": 23,
   "metadata": {},
   "outputs": [],
   "source": [
    "def plot_hist(df, subset):\n",
    "    df_sub = df[df[subset]==True]\n",
    "    print(\"Share: %\", round(len(df_sub)*100/len(df), 2))\n",
    "    fig, ax = plt.subplots(figsize = (4,4))\n",
    "    ax.hist(df_sub['total_incentive_value'], alpha=0.5, label='total_incentive_value')\n",
    "    if subset!=\"is_free_delivery\":\n",
    "        ax.hist(df_sub[subset+'_incentive_value'], alpha=0.5, label='basket_value_incentive_specific')\n",
    "    ax.hist(df_sub['basket_value'], alpha=0.5, label='basket_value')\n",
    "    ax.legend(loc='upper right')\n",
    "    plt.show()\n",
    "\n",
    "def plot_all(df):\n",
    "    for col in df.columns:\n",
    "        if \"value\" not in col and \"is_\" in col and 'incentive_value' not in col:\n",
    "            print(col)\n",
    "            plot_hist(df, col)"
   ]
  },
  {
   "cell_type": "code",
   "execution_count": 24,
   "metadata": {},
   "outputs": [
    {
     "name": "stdout",
     "output_type": "stream",
     "text": [
      "is_discount\n",
      "Share: % 22.97\n"
     ]
    },
    {
     "data": {
      "image/png": "[encoded data removed]",
      "text/plain": [
       "<Figure size 400x400 with 1 Axes>"
      ]
     },
     "metadata": {},
     "output_type": "display_data"
    },
    {
     "name": "stdout",
     "output_type": "stream",
     "text": [
      "is_voucher\n",
      "Share: % 10.5\n"
     ]
    },
    {
     "data": {
      "image/png": "[encoded data removed]",
      "text/plain": [
       "<Figure size 400x400 with 1 Axes>"
      ]
     },
     "metadata": {},
     "output_type": "display_data"
    },
    {
     "name": "stdout",
     "output_type": "stream",
     "text": [
      "is_joker\n",
      "Share: % 3.4\n"
     ]
    },
    {
     "data": {
      "image/png": "[encoded data removed]",
      "text/plain": [
       "<Figure size 400x400 with 1 Axes>"
      ]
     },
     "metadata": {},
     "output_type": "display_data"
    },
    {
     "name": "stdout",
     "output_type": "stream",
     "text": [
      "is_free_delivery\n",
      "Share: % 28.78\n"
     ]
    },
    {
     "data": {
      "image/png": "[encoded data removed]",
      "text/plain": [
       "<Figure size 400x400 with 1 Axes>"
      ]
     },
     "metadata": {},
     "output_type": "display_data"
    }
   ],
   "source": [
    "plot_all(df) #EUR"
   ]
  },
  {
   "cell_type": "code",
   "execution_count": null,
   "metadata": {},
   "outputs": [],
   "source": [
    "df.columns"
   ]
  },
  {
   "cell_type": "markdown",
   "metadata": {},
   "source": [
    "### Columns description:\n",
    "#### Incentives\n",
    "- **is_discount**: True if some other discount was given (**and used?**) to the customer (other than voucher and joker), e.g. Meal deal / Happy hour / Free drink / Pizza Montag / Free Delivery etc.\t\n",
    "- **is_voucher**: True if a voucher code was used, when the customer types in a code during the order process to receive a price reduction.\t\n",
    "- **is_free_delivery**: True if there was no delivery fee for the order.\n",
    "- **is_joker**: True if the joker feature was used in the order process.\n",
    "- **gmv_eur**: Gross Merchandise Value (GMV) is a metric that measures your total value of sales over a certain period of time. In this case we are calculating for each order the total amount Paid compulsory by Customer (also called MPR after DH Subsidy). Note that for top-level reporting this is calculated on Successful Orders, but not necessarily on Commissionable Orders. Includes VAT, all fees and incentives. Excludes Rider tip. Amount the customer paid (after vouchers and discounts, including delivery fee, allowance amount and **excluding tips**) in Euro.\n",
    "\n",
    "For the discounts:\n",
    "- **is_voucher_incentive_value**: we take the value.incentives.voucher_total_eur value which includes both DH vouchers and non\n",
    "- **is_discount_incentive_value**: we sum discount_dh_eur and discount_other_eur because discount_total_eur also contains joker - also summing all the appropriate columns the result wil still differ from the \"total\" column due to rounding errors\n",
    "- **is_joker_incentive_value**: the value is not null only if the joker feature was used in the order process (joker is a customized incentive, time limited)\n",
    "- delivery free has no incentive value\n",
    "\n",
    "Potentially interesting columns:\n",
    "is_acquisition, is_corporate, is_qcommerce, value.incentives.wallet_total_eur\n",
    "\n",
    "A way to differentiate dh vs vendor voucher value is to look at the respective voucher amount (the column contains a voucher amount breakdown).\n",
    "\n",
    "To calculate the incentive value:\n",
    "vouchers.amount_eur field is similar to value.incentives.voucher_total_eur (field I actually used), but in amount_eur the voucher value is divided against each voucher code/ campaign name."
   ]
  },
  {
   "cell_type": "markdown",
   "metadata": {},
   "source": [
    "Commission data info comes a month later, however January did not seem to have data for the day - but we are not interested in commission data."
   ]
  },
  {
   "cell_type": "code",
   "execution_count": null,
   "metadata": {},
   "outputs": [],
   "source": []
  }
 ],
 "metadata": {
  "kernelspec": {
   "display_name": "Python 3 (ipykernel)",
   "language": "python",
   "name": "python3"
  },
  "language_info": {
   "codemirror_mode": {
    "name": "ipython",
    "version": 3
   },
   "file_extension": ".py",
   "mimetype": "text/x-python",
   "name": "python",
   "nbconvert_exporter": "python",
   "pygments_lexer": "ipython3",
   "version": "3.10.1"
  }
 },
 "nbformat": 4,
 "nbformat_minor": 4
}
