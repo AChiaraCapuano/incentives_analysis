{
 "cells": [
  {
   "cell_type": "code",
   "execution_count": 1,
   "metadata": {},
   "outputs": [],
   "source": [
    "import pandas_gbq\n",
    "import pandas as pd\n",
    "import json\n",
    "import matplotlib.pyplot as plt\n",
    "import numpy as np"
   ]
  },
  {
   "cell_type": "markdown",
   "metadata": {},
   "source": [
    "# Customer level [WIP]"
   ]
  },
  {
   "cell_type": "markdown",
   "metadata": {},
   "source": [
    "Investigate:\n",
    "- Avg Share of orders incentivised\n",
    "- Avg Incentive value used per incentivised order \n",
    "- Avg Incentive Amount/Basket Value (AOV + Delivery + Service Fee) \n"
   ]
  },
  {
   "cell_type": "code",
   "execution_count": 27,
   "metadata": {},
   "outputs": [],
   "source": [
    "q_cust = '''\n",
    "SELECT analytical_customer_id,global_entity_id, order_id,\n",
    "  CASE WHEN (is_discount OR is_voucher OR is_joker)\n",
    "    THEN 1 else 0 end as used_incentive,  \n",
    "  CASE WHEN is_free_delivery\n",
    "    THEN 1 else 0 end as has_free_delivery,  \n",
    "  IFNULL(value.incentives.voucher_total_eur,0)+IFNULL(value.incentives.discount_total_eur, 0) AS incentive_value,\n",
    "  value.order.gmv_eur as basket_value \n",
    "FROM `fulfillment-dwh-production.curated_data_shared_coredata_business.orders` left join unnest(addons.subscriptions) as ad\n",
    "WHERE is_successful = true and global_entity_id=\"FO_NO\" and date(partition_date_local) between \"2023-01-01\" and \"2023-12-31\" and is_corporate = false and ad.subscription_id is null\n",
    "'''"
   ]
  },
  {
   "cell_type": "code",
   "execution_count": 28,
   "metadata": {},
   "outputs": [
    {
     "name": "stdout",
     "output_type": "stream",
     "text": [
      "\n",
      "Downloading:   0%|\u001b[32m          \u001b[0m|\u001b[A\n",
      "Downloading:   3%|\u001b[32m▎         \u001b[0m|\u001b[A\n",
      "Downloading:   3%|\u001b[32m▎         \u001b[0m|\u001b[A\n",
      "Downloading:   5%|\u001b[32m▌         \u001b[0m|\u001b[A\n",
      "Downloading:   5%|\u001b[32m▌         \u001b[0m|\u001b[A\n",
      "Downloading:   8%|\u001b[32m▊         \u001b[0m|\u001b[A\n",
      "Downloading:   8%|\u001b[32m▊         \u001b[0m|\u001b[A\n",
      "Downloading:  10%|\u001b[32m█         \u001b[0m|\u001b[A\n",
      "Downloading:  10%|\u001b[32m█         \u001b[0m|\u001b[A\n",
      "Downloading:  13%|\u001b[32m█▎        \u001b[0m|\u001b[A\n",
      "Downloading:  13%|\u001b[32m█▎        \u001b[0m|\u001b[A\n",
      "Downloading:  15%|\u001b[32m█▌        \u001b[0m|\u001b[A\n",
      "Downloading:  15%|\u001b[32m█▌        \u001b[0m|\u001b[A\n",
      "Downloading:  18%|\u001b[32m█▊        \u001b[0m|\u001b[A\n",
      "Downloading:  18%|\u001b[32m█▊        \u001b[0m|\u001b[A\n",
      "Downloading:  21%|\u001b[32m██        \u001b[0m|\u001b[A\n",
      "Downloading:  21%|\u001b[32m██        \u001b[0m|\u001b[A\n",
      "Downloading:  23%|\u001b[32m██▎       \u001b[0m|\u001b[A\n",
      "Downloading:  23%|\u001b[32m██▎       \u001b[0m|\u001b[A\n",
      "Downloading:  26%|\u001b[32m██▌       \u001b[0m|\u001b[A\n",
      "Downloading:  26%|\u001b[32m██▌       \u001b[0m|\u001b[A\n",
      "Downloading:  28%|\u001b[32m██▊       \u001b[0m|\u001b[A\n",
      "Downloading:  28%|\u001b[32m██▊       \u001b[0m|\u001b[A\n",
      "Downloading:  31%|\u001b[32m███       \u001b[0m|\u001b[A\n",
      "Downloading:  31%|\u001b[32m███       \u001b[0m|\u001b[A\n",
      "Downloading:  33%|\u001b[32m███▎      \u001b[0m|\u001b[A\n",
      "Downloading:  33%|\u001b[32m███▎      \u001b[0m|\u001b[A\n",
      "Downloading:  36%|\u001b[32m███▌      \u001b[0m|\u001b[A\n",
      "Downloading:  36%|\u001b[32m███▌      \u001b[0m|\u001b[A\n",
      "Downloading:  38%|\u001b[32m███▊      \u001b[0m|\u001b[A\n",
      "Downloading:  38%|\u001b[32m███▊      \u001b[0m|\u001b[A\n",
      "Downloading:  41%|\u001b[32m████      \u001b[0m|\u001b[A\n",
      "Downloading:  41%|\u001b[32m████      \u001b[0m|\u001b[A\n",
      "Downloading:  44%|\u001b[32m████▎     \u001b[0m|\u001b[A\n",
      "Downloading:  44%|\u001b[32m████▎     \u001b[0m|\u001b[A\n",
      "Downloading:  46%|\u001b[32m████▌     \u001b[0m|\u001b[A\n",
      "Downloading:  46%|\u001b[32m████▌     \u001b[0m|\u001b[A\n",
      "Downloading:  49%|\u001b[32m████▉     \u001b[0m|\u001b[A\n",
      "Downloading:  49%|\u001b[32m████▉     \u001b[0m|\u001b[A\n",
      "Downloading:  51%|\u001b[32m█████▏    \u001b[0m|\u001b[A\n",
      "Downloading:  51%|\u001b[32m█████▏    \u001b[0m|\u001b[A\n",
      "Downloading:  54%|\u001b[32m█████▍    \u001b[0m|\u001b[A\n",
      "Downloading:  54%|\u001b[32m█████▍    \u001b[0m|\u001b[A\n",
      "Downloading:  56%|\u001b[32m█████▋    \u001b[0m|\u001b[A\n",
      "Downloading:  56%|\u001b[32m█████▋    \u001b[0m|\u001b[A\n",
      "Downloading:  59%|\u001b[32m█████▉    \u001b[0m|\u001b[A\n",
      "Downloading:  59%|\u001b[32m█████▉    \u001b[0m|\u001b[A\n",
      "Downloading:  62%|\u001b[32m██████▏   \u001b[0m|\u001b[A\n",
      "Downloading:  62%|\u001b[32m██████▏   \u001b[0m|\u001b[A\n",
      "Downloading:  64%|\u001b[32m██████▍   \u001b[0m|\u001b[A\n",
      "Downloading:  64%|\u001b[32m██████▍   \u001b[0m|\u001b[A\n",
      "Downloading:  67%|\u001b[32m██████▋   \u001b[0m|\u001b[A\n",
      "Downloading:  67%|\u001b[32m██████▋   \u001b[0m|\u001b[A\n",
      "Downloading:  69%|\u001b[32m██████▉   \u001b[0m|\u001b[A\n",
      "Downloading:  69%|\u001b[32m██████▉   \u001b[0m|\u001b[A\n",
      "Downloading:  72%|\u001b[32m███████▏  \u001b[0m|\u001b[A\n",
      "Downloading:  72%|\u001b[32m███████▏  \u001b[0m|\u001b[A\n",
      "Downloading:  74%|\u001b[32m███████▍  \u001b[0m|\u001b[A\n",
      "Downloading:  74%|\u001b[32m███████▍  \u001b[0m|\u001b[A\n",
      "Downloading:  77%|\u001b[32m███████▋  \u001b[0m|\u001b[A\n",
      "Downloading:  77%|\u001b[32m███████▋  \u001b[0m|\u001b[A\n",
      "Downloading:  80%|\u001b[32m███████▉  \u001b[0m|\u001b[A\n",
      "Downloading:  80%|\u001b[32m███████▉  \u001b[0m|\u001b[A\n",
      "Downloading:  82%|\u001b[32m████████▏ \u001b[0m|\u001b[A\n",
      "Downloading:  82%|\u001b[32m████████▏ \u001b[0m|\u001b[A\n",
      "Downloading:  85%|\u001b[32m████████▍ \u001b[0m|\u001b[A\n",
      "Downloading:  85%|\u001b[32m████████▍ \u001b[0m|\u001b[A\n",
      "Downloading:  87%|\u001b[32m████████▋ \u001b[0m|\u001b[A\n",
      "Downloading:  87%|\u001b[32m████████▋ \u001b[0m|\u001b[A\n",
      "Downloading:  90%|\u001b[32m████████▉ \u001b[0m|\u001b[A\n",
      "Downloading:  90%|\u001b[32m████████▉ \u001b[0m|\u001b[A\n",
      "Downloading:  92%|\u001b[32m█████████▏\u001b[0m|\u001b[A\n",
      "Downloading:  92%|\u001b[32m█████████▏\u001b[0m|\u001b[A\n",
      "Downloading:  95%|\u001b[32m█████████▌\u001b[0m|\u001b[A\n",
      "Downloading:  95%|\u001b[32m█████████▌\u001b[0m|\u001b[A\n",
      "Downloading:  98%|\u001b[32m█████████▊\u001b[0m|\u001b[A\n",
      "Downloading:  98%|\u001b[32m█████████▊\u001b[0m|\u001b[A\n",
      "Downloading: 100%|\u001b[32m██████████\u001b[0m|\u001b[A\n"
     ]
    }
   ],
   "source": [
    "df_customer = pandas_gbq.read_gbq(q_cust)"
   ]
  },
  {
   "cell_type": "code",
   "execution_count": 29,
   "metadata": {},
   "outputs": [
    {
     "data": {
      "text/plain": [
       "Index(['analytical_customer_id', 'global_entity_id', 'order_id',\n",
       "       'used_incentive', 'has_free_delivery', 'incentive_value',\n",
       "       'basket_value'],\n",
       "      dtype='object')"
      ]
     },
     "execution_count": 29,
     "metadata": {},
     "output_type": "execute_result"
    }
   ],
   "source": [
    "df_customer.columns"
   ]
  },
  {
   "cell_type": "code",
   "execution_count": 33,
   "metadata": {},
   "outputs": [
    {
     "data": {
      "text/plain": [
       "754216"
      ]
     },
     "execution_count": 33,
     "metadata": {},
     "output_type": "execute_result"
    }
   ],
   "source": [
    "df_customer['analytical_customer_id'].nunique()"
   ]
  },
  {
   "cell_type": "markdown",
   "metadata": {},
   "source": [
    "## Avg share of orders incentivized"
   ]
  },
  {
   "cell_type": "code",
   "execution_count": 85,
   "metadata": {},
   "outputs": [],
   "source": [
    "df_incentivized = df_customer.groupby('analytical_customer_id')[['used_incentive', 'has_free_delivery']].mean().reset_index()"
   ]
  },
  {
   "cell_type": "code",
   "execution_count": 86,
   "metadata": {},
   "outputs": [
    {
     "data": {
      "text/plain": [
       "0.5627021967181816"
      ]
     },
     "execution_count": 86,
     "metadata": {},
     "output_type": "execute_result"
    }
   ],
   "source": [
    "len(df_incentivized[df_incentivized['used_incentive']>0])/len(df_incentivized)"
   ]
  },
  {
   "cell_type": "markdown",
   "metadata": {},
   "source": [
    "Distribution of incentivized orders per customer:"
   ]
  },
  {
   "cell_type": "code",
   "execution_count": 93,
   "metadata": {},
   "outputs": [
    {
     "data": {
      "image/png": "[encoded data removed]",
      "text/plain": [
       "<Figure size 640x480 with 1 Axes>"
      ]
     },
     "metadata": {},
     "output_type": "display_data"
    }
   ],
   "source": [
    "plt.hist(df_incentivized['used_incentive']);"
   ]
  },
  {
   "cell_type": "code",
   "execution_count": 88,
   "metadata": {},
   "outputs": [
    {
     "data": {
      "text/plain": [
       "0.6425692374598259"
      ]
     },
     "execution_count": 88,
     "metadata": {},
     "output_type": "execute_result"
    }
   ],
   "source": [
    "len(df_incentivized[df_incentivized['has_free_delivery']>0])/len(df_incentivized)"
   ]
  },
  {
   "cell_type": "markdown",
   "metadata": {},
   "source": [
    "Distribution of free delivery orders per customer:"
   ]
  },
  {
   "cell_type": "code",
   "execution_count": 92,
   "metadata": {},
   "outputs": [
    {
     "data": {
      "image/png": "[encoded data removed]",
      "text/plain": [
       "<Figure size 640x480 with 1 Axes>"
      ]
     },
     "metadata": {},
     "output_type": "display_data"
    }
   ],
   "source": [
    "plt.hist(df_incentivized['has_free_delivery']);"
   ]
  },
  {
   "cell_type": "markdown",
   "metadata": {},
   "source": [
    "In one year, 56% customers used an incentive at least once, and 64% of them placed orders with free delivery."
   ]
  },
  {
   "cell_type": "markdown",
   "metadata": {},
   "source": [
    "## Avg incentive value per order"
   ]
  },
  {
   "cell_type": "code",
   "execution_count": 53,
   "metadata": {},
   "outputs": [],
   "source": [
    "df_avg_order = df_customer[df_customer['used_incentive']==1].groupby('analytical_customer_id')['incentive_value'].mean().reset_index()"
   ]
  },
  {
   "cell_type": "markdown",
   "metadata": {},
   "source": [
    "Distribution of incentive values:"
   ]
  },
  {
   "cell_type": "code",
   "execution_count": 76,
   "metadata": {},
   "outputs": [
    {
     "data": {
      "image/png": "[encoded data removed]",
      "text/plain": [
       "<Figure size 640x480 with 1 Axes>"
      ]
     },
     "metadata": {},
     "output_type": "display_data"
    }
   ],
   "source": [
    "plt.hist(df_avg_order[df_avg_order['incentive_value']<80]['incentive_value'], bins=50);"
   ]
  },
  {
   "cell_type": "markdown",
   "metadata": {},
   "source": [
    "## Avg incentive amount basket"
   ]
  },
  {
   "cell_type": "code",
   "execution_count": 56,
   "metadata": {},
   "outputs": [],
   "source": [
    "df_avg_basket = df_customer[df_customer['used_incentive']==1].groupby('analytical_customer_id')['basket_value'].mean().reset_index()"
   ]
  },
  {
   "cell_type": "code",
   "execution_count": 78,
   "metadata": {},
   "outputs": [
    {
     "data": {
      "image/png": "[encoded data removed]",
      "text/plain": [
       "<Figure size 640x480 with 1 Axes>"
      ]
     },
     "metadata": {},
     "output_type": "display_data"
    }
   ],
   "source": [
    "plt.hist(df_avg_basket[df_avg_basket['basket_value']<150]['basket_value'], bins=50);"
   ]
  },
  {
   "cell_type": "markdown",
   "metadata": {},
   "source": [
    "Simple solution:"
   ]
  },
  {
   "cell_type": "code",
   "execution_count": null,
   "metadata": {},
   "outputs": [],
   "source": [
    "Median solution:"
   ]
  },
  {
   "cell_type": "code",
   "execution_count": 139,
   "metadata": {},
   "outputs": [],
   "source": [
    "order_value_median = df_avg_order['incentive_value'].median()\n",
    "basket_value_median = df_avg_basket['basket_value'].median()\n",
    "incentive_use_median = df_incentivized['used_incentive'].median()\n"
   ]
  },
  {
   "cell_type": "code",
   "execution_count": 140,
   "metadata": {},
   "outputs": [],
   "source": [
    "df_avg_order['order_score']= df_avg_order['incentive_value']-order_value_median\n",
    "df_avg_basket['basket_score']= df_avg_basket['basket_value']-basket_value_median\n",
    "df_incentivized['incentive_use_score']= df_incentivized['used_incentive']-incentive_use_median"
   ]
  },
  {
   "cell_type": "code",
   "execution_count": 146,
   "metadata": {},
   "outputs": [],
   "source": [
    "df_median_sol_ = df_incentivized.merge(df_avg_basket, on='analytical_customer_id')\n",
    "df_median_sol = df_median_sol_.merge(df_avg_order, on='analytical_customer_id')\n",
    "df_median_sol['order_score_normalized']=(df_median_sol['order_score']-df_median_sol['order_score'].min())/(df_median_sol['order_score'].max()-df_median_sol['order_score'].min())\n",
    "df_median_sol['basket_score_normalized']=(df_median_sol['basket_score']-df_median_sol['basket_score'].min())/(df_median_sol['basket_score'].max()-df_median_sol['basket_score'].min())\n",
    "df_median_sol['incentive_score_normalized']=(df_median_sol['incentive_use_score']-df_median_sol['incentive_use_score'].min())/(df_median_sol['incentive_use_score'].max()-df_median_sol['incentive_use_score'].min())\n",
    "#exclude customers with incentive usage of 1 (likely ordered only once with incentive)?\n",
    "df_median_sol['score'] = 0.25*df_median_sol['order_score_normalized']+0.25*df_median_sol['basket_score_normalized']+0.5*df_median_sol['incentive_score_normalized']"
   ]
  },
  {
   "cell_type": "code",
   "execution_count": 147,
   "metadata": {},
   "outputs": [
    {
     "name": "stdout",
     "output_type": "stream",
     "text": [
      "0.8944274872133311 0.010294389793407768\n"
     ]
    }
   ],
   "source": [
    "print(df_median_sol['score'].max(), df_median_sol['score'].min())"
   ]
  },
  {
   "cell_type": "code",
   "execution_count": 148,
   "metadata": {},
   "outputs": [
    {
     "data": {
      "image/png": "[encoded data removed]",
      "text/plain": [
       "<Figure size 640x480 with 1 Axes>"
      ]
     },
     "metadata": {},
     "output_type": "display_data"
    }
   ],
   "source": [
    "plt.hist(df_median_sol['score']);"
   ]
  },
  {
   "cell_type": "code",
   "execution_count": 149,
   "metadata": {},
   "outputs": [
    {
     "name": "stdout",
     "output_type": "stream",
     "text": [
      "8.655 25.981666666666666 0.125\n"
     ]
    }
   ],
   "source": [
    "print(order_value_median, basket_value_median, incentive_use_median)"
   ]
  },
  {
   "cell_type": "code",
   "execution_count": 150,
   "metadata": {},
   "outputs": [
    {
     "data": {
      "text/html": [
       "<div>\n",
       "<style scoped>\n",
       "    .dataframe tbody tr th:only-of-type {\n",
       "        vertical-align: middle;\n",
       "    }\n",
       "\n",
       "    .dataframe tbody tr th {\n",
       "        vertical-align: top;\n",
       "    }\n",
       "\n",
       "    .dataframe thead th {\n",
       "        text-align: right;\n",
       "    }\n",
       "</style>\n",
       "<table border=\"1\" class=\"dataframe\">\n",
       "  <thead>\n",
       "    <tr style=\"text-align: right;\">\n",
       "      <th></th>\n",
       "      <th>analytical_customer_id</th>\n",
       "      <th>used_incentive</th>\n",
       "      <th>has_free_delivery</th>\n",
       "      <th>incentive_use_score</th>\n",
       "      <th>basket_value</th>\n",
       "      <th>basket_score</th>\n",
       "      <th>incentive_value</th>\n",
       "      <th>order_score</th>\n",
       "      <th>order_score_normalized</th>\n",
       "      <th>basket_score_normalized</th>\n",
       "      <th>incentive_score_normalized</th>\n",
       "      <th>score</th>\n",
       "    </tr>\n",
       "  </thead>\n",
       "  <tbody>\n",
       "    <tr>\n",
       "      <th>0</th>\n",
       "      <td>---soo0-XOSayGO0V_swhg</td>\n",
       "      <td>0.666667</td>\n",
       "      <td>0.333333</td>\n",
       "      <td>0.541667</td>\n",
       "      <td>41.150000</td>\n",
       "      <td>15.168333</td>\n",
       "      <td>15.385000</td>\n",
       "      <td>6.730000</td>\n",
       "      <td>0.045703</td>\n",
       "      <td>0.067893</td>\n",
       "      <td>0.665459</td>\n",
       "      <td>0.361128</td>\n",
       "    </tr>\n",
       "    <tr>\n",
       "      <th>1</th>\n",
       "      <td>--0zkH63WCGiFVRKvgAsRg</td>\n",
       "      <td>0.217391</td>\n",
       "      <td>0.26087</td>\n",
       "      <td>0.092391</td>\n",
       "      <td>27.488000</td>\n",
       "      <td>1.506333</td>\n",
       "      <td>6.374000</td>\n",
       "      <td>-2.281000</td>\n",
       "      <td>0.018935</td>\n",
       "      <td>0.045352</td>\n",
       "      <td>0.214556</td>\n",
       "      <td>0.12335</td>\n",
       "    </tr>\n",
       "    <tr>\n",
       "      <th>2</th>\n",
       "      <td>--1dxFPeWzmcJfM6ffjECw</td>\n",
       "      <td>0.463415</td>\n",
       "      <td>0.146341</td>\n",
       "      <td>0.338415</td>\n",
       "      <td>25.166842</td>\n",
       "      <td>-0.814825</td>\n",
       "      <td>11.309474</td>\n",
       "      <td>2.654474</td>\n",
       "      <td>0.033596</td>\n",
       "      <td>0.041523</td>\n",
       "      <td>0.46147</td>\n",
       "      <td>0.249515</td>\n",
       "    </tr>\n",
       "    <tr>\n",
       "      <th>3</th>\n",
       "      <td>--20hu-tVta2uwX2IQ63RQ</td>\n",
       "      <td>1.0</td>\n",
       "      <td>1.0</td>\n",
       "      <td>0.875</td>\n",
       "      <td>10.160000</td>\n",
       "      <td>-15.821667</td>\n",
       "      <td>17.080000</td>\n",
       "      <td>8.425000</td>\n",
       "      <td>0.050738</td>\n",
       "      <td>0.016763</td>\n",
       "      <td>1.0</td>\n",
       "      <td>0.516875</td>\n",
       "    </tr>\n",
       "    <tr>\n",
       "      <th>4</th>\n",
       "      <td>--22JYq7VXuusuHw_t8PxQ</td>\n",
       "      <td>0.190476</td>\n",
       "      <td>0.047619</td>\n",
       "      <td>0.065476</td>\n",
       "      <td>30.807500</td>\n",
       "      <td>4.825833</td>\n",
       "      <td>4.267500</td>\n",
       "      <td>-4.387500</td>\n",
       "      <td>0.012677</td>\n",
       "      <td>0.050829</td>\n",
       "      <td>0.187543</td>\n",
       "      <td>0.109648</td>\n",
       "    </tr>\n",
       "    <tr>\n",
       "      <th>...</th>\n",
       "      <td>...</td>\n",
       "      <td>...</td>\n",
       "      <td>...</td>\n",
       "      <td>...</td>\n",
       "      <td>...</td>\n",
       "      <td>...</td>\n",
       "      <td>...</td>\n",
       "      <td>...</td>\n",
       "      <td>...</td>\n",
       "      <td>...</td>\n",
       "      <td>...</td>\n",
       "      <td>...</td>\n",
       "    </tr>\n",
       "    <tr>\n",
       "      <th>424394</th>\n",
       "      <td>zzuU9cI7VLCcdoKCupFSDA</td>\n",
       "      <td>0.333333</td>\n",
       "      <td>0.333333</td>\n",
       "      <td>0.208333</td>\n",
       "      <td>69.910000</td>\n",
       "      <td>43.928333</td>\n",
       "      <td>7.700000</td>\n",
       "      <td>-0.955000</td>\n",
       "      <td>0.022874</td>\n",
       "      <td>0.115344</td>\n",
       "      <td>0.330918</td>\n",
       "      <td>0.200013</td>\n",
       "    </tr>\n",
       "    <tr>\n",
       "      <th>424395</th>\n",
       "      <td>zzuiRFfJVeiApyHInNIFZA</td>\n",
       "      <td>1.0</td>\n",
       "      <td>0.0</td>\n",
       "      <td>0.875</td>\n",
       "      <td>23.520000</td>\n",
       "      <td>-2.461667</td>\n",
       "      <td>3.430000</td>\n",
       "      <td>-5.225000</td>\n",
       "      <td>0.010189</td>\n",
       "      <td>0.038805</td>\n",
       "      <td>1.0</td>\n",
       "      <td>0.512249</td>\n",
       "    </tr>\n",
       "    <tr>\n",
       "      <th>424396</th>\n",
       "      <td>zzuu2XjRWTClP3owpxfqoA</td>\n",
       "      <td>0.25</td>\n",
       "      <td>0.25</td>\n",
       "      <td>0.125</td>\n",
       "      <td>29.750000</td>\n",
       "      <td>3.768333</td>\n",
       "      <td>5.150000</td>\n",
       "      <td>-3.505000</td>\n",
       "      <td>0.015299</td>\n",
       "      <td>0.049084</td>\n",
       "      <td>0.247283</td>\n",
       "      <td>0.139737</td>\n",
       "    </tr>\n",
       "    <tr>\n",
       "      <th>424397</th>\n",
       "      <td>zzw1HSsfVFKTrRC92FtHEQ</td>\n",
       "      <td>0.24</td>\n",
       "      <td>0.32</td>\n",
       "      <td>0.115</td>\n",
       "      <td>53.571667</td>\n",
       "      <td>27.590000</td>\n",
       "      <td>7.706667</td>\n",
       "      <td>-0.948333</td>\n",
       "      <td>0.022894</td>\n",
       "      <td>0.088388</td>\n",
       "      <td>0.237246</td>\n",
       "      <td>0.146443</td>\n",
       "    </tr>\n",
       "    <tr>\n",
       "      <th>424398</th>\n",
       "      <td>zzyZj0KTUzCzV5KSLP82Jg</td>\n",
       "      <td>0.7</td>\n",
       "      <td>0.4</td>\n",
       "      <td>0.575</td>\n",
       "      <td>34.150000</td>\n",
       "      <td>8.168333</td>\n",
       "      <td>8.511429</td>\n",
       "      <td>-0.143571</td>\n",
       "      <td>0.025284</td>\n",
       "      <td>0.056344</td>\n",
       "      <td>0.698913</td>\n",
       "      <td>0.369864</td>\n",
       "    </tr>\n",
       "  </tbody>\n",
       "</table>\n",
       "<p>424399 rows × 12 columns</p>\n",
       "</div>"
      ],
      "text/plain": [
       "        analytical_customer_id  used_incentive  has_free_delivery  \\\n",
       "0       ---soo0-XOSayGO0V_swhg        0.666667           0.333333   \n",
       "1       --0zkH63WCGiFVRKvgAsRg        0.217391            0.26087   \n",
       "2       --1dxFPeWzmcJfM6ffjECw        0.463415           0.146341   \n",
       "3       --20hu-tVta2uwX2IQ63RQ             1.0                1.0   \n",
       "4       --22JYq7VXuusuHw_t8PxQ        0.190476           0.047619   \n",
       "...                        ...             ...                ...   \n",
       "424394  zzuU9cI7VLCcdoKCupFSDA        0.333333           0.333333   \n",
       "424395  zzuiRFfJVeiApyHInNIFZA             1.0                0.0   \n",
       "424396  zzuu2XjRWTClP3owpxfqoA            0.25               0.25   \n",
       "424397  zzw1HSsfVFKTrRC92FtHEQ            0.24               0.32   \n",
       "424398  zzyZj0KTUzCzV5KSLP82Jg             0.7                0.4   \n",
       "\n",
       "        incentive_use_score  basket_value  basket_score  incentive_value  \\\n",
       "0                  0.541667     41.150000     15.168333        15.385000   \n",
       "1                  0.092391     27.488000      1.506333         6.374000   \n",
       "2                  0.338415     25.166842     -0.814825        11.309474   \n",
       "3                     0.875     10.160000    -15.821667        17.080000   \n",
       "4                  0.065476     30.807500      4.825833         4.267500   \n",
       "...                     ...           ...           ...              ...   \n",
       "424394             0.208333     69.910000     43.928333         7.700000   \n",
       "424395                0.875     23.520000     -2.461667         3.430000   \n",
       "424396                0.125     29.750000      3.768333         5.150000   \n",
       "424397                0.115     53.571667     27.590000         7.706667   \n",
       "424398                0.575     34.150000      8.168333         8.511429   \n",
       "\n",
       "        order_score  order_score_normalized  basket_score_normalized  \\\n",
       "0          6.730000                0.045703                 0.067893   \n",
       "1         -2.281000                0.018935                 0.045352   \n",
       "2          2.654474                0.033596                 0.041523   \n",
       "3          8.425000                0.050738                 0.016763   \n",
       "4         -4.387500                0.012677                 0.050829   \n",
       "...             ...                     ...                      ...   \n",
       "424394    -0.955000                0.022874                 0.115344   \n",
       "424395    -5.225000                0.010189                 0.038805   \n",
       "424396    -3.505000                0.015299                 0.049084   \n",
       "424397    -0.948333                0.022894                 0.088388   \n",
       "424398    -0.143571                0.025284                 0.056344   \n",
       "\n",
       "        incentive_score_normalized     score  \n",
       "0                         0.665459  0.361128  \n",
       "1                         0.214556   0.12335  \n",
       "2                          0.46147  0.249515  \n",
       "3                              1.0  0.516875  \n",
       "4                         0.187543  0.109648  \n",
       "...                            ...       ...  \n",
       "424394                    0.330918  0.200013  \n",
       "424395                         1.0  0.512249  \n",
       "424396                    0.247283  0.139737  \n",
       "424397                    0.237246  0.146443  \n",
       "424398                    0.698913  0.369864  \n",
       "\n",
       "[424399 rows x 12 columns]"
      ]
     },
     "execution_count": 150,
     "metadata": {},
     "output_type": "execute_result"
    }
   ],
   "source": [
    "df_median_sol"
   ]
  },
  {
   "cell_type": "markdown",
   "metadata": {},
   "source": [
    "# Order level"
   ]
  },
  {
   "cell_type": "code",
   "execution_count": 20,
   "metadata": {
    "collapsed": false,
    "jupyter": {
     "outputs_hidden": false
    },
    "pycharm": {
     "name": "#%%\n"
    }
   },
   "outputs": [],
   "source": [
    "q='''\n",
    "SELECT \n",
    "IFNULL(value.incentives.voucher_total_eur,0) as is_voucher_incentive_value, \n",
    "IFNULL(value.incentives.discount_dh_eur,0)+IFNULL(value.incentives.discount_other_eur,0) is_discount_incentive_value,\n",
    "IFNULL(value.incentives.joker_customer_discount_eur,0) is_joker_incentive_value,\n",
    "IFNULL(value.incentives.voucher_total_eur,0)+IFNULL(value.incentives.discount_dh_eur,0)+IFNULL(value.incentives.discount_other_eur,0)\n",
    "+IFNULL(value.incentives.joker_customer_discount_eur,0) as total_incentive_value,\n",
    "value.order.gmv_eur as basket_value, \n",
    "is_discount, \n",
    "is_voucher, \n",
    "is_joker,\n",
    "is_free_delivery \n",
    "FROM `fulfillment-dwh-production.curated_data_shared_coredata_business.orders` \n",
    "WHERE is_successful = true and global_entity_id=\"FO_NO\" and date(partition_date_local) = \"2023-12-12\"\n",
    "'''"
   ]
  },
  {
   "cell_type": "code",
   "execution_count": 21,
   "metadata": {
    "collapsed": false,
    "jupyter": {
     "outputs_hidden": false
    },
    "pycharm": {
     "name": "#%%\n"
    }
   },
   "outputs": [
    {
     "name": "stdout",
     "output_type": "stream",
     "text": [
      "Downloading: 100%|\u001b[32m██████████\u001b[0m|\n"
     ]
    }
   ],
   "source": [
    "df = pandas_gbq.read_gbq(q)"
   ]
  },
  {
   "cell_type": "code",
   "execution_count": 22,
   "metadata": {},
   "outputs": [
    {
     "data": {
      "text/html": [
       "<div>\n",
       "<style scoped>\n",
       "    .dataframe tbody tr th:only-of-type {\n",
       "        vertical-align: middle;\n",
       "    }\n",
       "\n",
       "    .dataframe tbody tr th {\n",
       "        vertical-align: top;\n",
       "    }\n",
       "\n",
       "    .dataframe thead th {\n",
       "        text-align: right;\n",
       "    }\n",
       "</style>\n",
       "<table border=\"1\" class=\"dataframe\">\n",
       "  <thead>\n",
       "    <tr style=\"text-align: right;\">\n",
       "      <th></th>\n",
       "      <th>is_voucher_incentive_value</th>\n",
       "      <th>is_discount_incentive_value</th>\n",
       "      <th>is_joker_incentive_value</th>\n",
       "      <th>total_incentive_value</th>\n",
       "      <th>basket_value</th>\n",
       "      <th>is_discount</th>\n",
       "      <th>is_voucher</th>\n",
       "      <th>is_joker</th>\n",
       "      <th>is_free_delivery</th>\n",
       "    </tr>\n",
       "  </thead>\n",
       "  <tbody>\n",
       "    <tr>\n",
       "      <th>23</th>\n",
       "      <td>0E-9</td>\n",
       "      <td>0E-9</td>\n",
       "      <td>3.800000000</td>\n",
       "      <td>3.800000000</td>\n",
       "      <td>13.010000000</td>\n",
       "      <td>True</td>\n",
       "      <td>False</td>\n",
       "      <td>True</td>\n",
       "      <td>True</td>\n",
       "    </tr>\n",
       "    <tr>\n",
       "      <th>57</th>\n",
       "      <td>0E-9</td>\n",
       "      <td>0E-9</td>\n",
       "      <td>3.800000000</td>\n",
       "      <td>3.800000000</td>\n",
       "      <td>13.690000000</td>\n",
       "      <td>True</td>\n",
       "      <td>False</td>\n",
       "      <td>True</td>\n",
       "      <td>True</td>\n",
       "    </tr>\n",
       "    <tr>\n",
       "      <th>74</th>\n",
       "      <td>0E-9</td>\n",
       "      <td>0E-9</td>\n",
       "      <td>3.800000000</td>\n",
       "      <td>3.800000000</td>\n",
       "      <td>13.770000000</td>\n",
       "      <td>True</td>\n",
       "      <td>False</td>\n",
       "      <td>True</td>\n",
       "      <td>True</td>\n",
       "    </tr>\n",
       "    <tr>\n",
       "      <th>93</th>\n",
       "      <td>0E-9</td>\n",
       "      <td>0E-9</td>\n",
       "      <td>8.450000000</td>\n",
       "      <td>8.450000000</td>\n",
       "      <td>28.560000000</td>\n",
       "      <td>True</td>\n",
       "      <td>False</td>\n",
       "      <td>True</td>\n",
       "      <td>True</td>\n",
       "    </tr>\n",
       "    <tr>\n",
       "      <th>152</th>\n",
       "      <td>0E-9</td>\n",
       "      <td>0E-9</td>\n",
       "      <td>3.800000000</td>\n",
       "      <td>3.800000000</td>\n",
       "      <td>14.280000000</td>\n",
       "      <td>True</td>\n",
       "      <td>False</td>\n",
       "      <td>True</td>\n",
       "      <td>True</td>\n",
       "    </tr>\n",
       "    <tr>\n",
       "      <th>...</th>\n",
       "      <td>...</td>\n",
       "      <td>...</td>\n",
       "      <td>...</td>\n",
       "      <td>...</td>\n",
       "      <td>...</td>\n",
       "      <td>...</td>\n",
       "      <td>...</td>\n",
       "      <td>...</td>\n",
       "      <td>...</td>\n",
       "    </tr>\n",
       "    <tr>\n",
       "      <th>14707</th>\n",
       "      <td>0E-9</td>\n",
       "      <td>0E-9</td>\n",
       "      <td>8.450000000</td>\n",
       "      <td>8.450000000</td>\n",
       "      <td>62.520000000</td>\n",
       "      <td>True</td>\n",
       "      <td>False</td>\n",
       "      <td>True</td>\n",
       "      <td>False</td>\n",
       "    </tr>\n",
       "    <tr>\n",
       "      <th>14719</th>\n",
       "      <td>0E-9</td>\n",
       "      <td>0E-9</td>\n",
       "      <td>8.450000000</td>\n",
       "      <td>8.450000000</td>\n",
       "      <td>58.630000000</td>\n",
       "      <td>True</td>\n",
       "      <td>False</td>\n",
       "      <td>True</td>\n",
       "      <td>False</td>\n",
       "    </tr>\n",
       "    <tr>\n",
       "      <th>14783</th>\n",
       "      <td>0E-9</td>\n",
       "      <td>0E-9</td>\n",
       "      <td>8.450000000</td>\n",
       "      <td>8.450000000</td>\n",
       "      <td>47.820000000</td>\n",
       "      <td>True</td>\n",
       "      <td>False</td>\n",
       "      <td>True</td>\n",
       "      <td>False</td>\n",
       "    </tr>\n",
       "    <tr>\n",
       "      <th>14819</th>\n",
       "      <td>0E-9</td>\n",
       "      <td>0E-9</td>\n",
       "      <td>8.450000000</td>\n",
       "      <td>8.450000000</td>\n",
       "      <td>52.470000000</td>\n",
       "      <td>True</td>\n",
       "      <td>False</td>\n",
       "      <td>True</td>\n",
       "      <td>False</td>\n",
       "    </tr>\n",
       "    <tr>\n",
       "      <th>14877</th>\n",
       "      <td>0E-9</td>\n",
       "      <td>0E-9</td>\n",
       "      <td>8.450000000</td>\n",
       "      <td>8.450000000</td>\n",
       "      <td>40.720000000</td>\n",
       "      <td>True</td>\n",
       "      <td>False</td>\n",
       "      <td>True</td>\n",
       "      <td>False</td>\n",
       "    </tr>\n",
       "  </tbody>\n",
       "</table>\n",
       "<p>561 rows × 9 columns</p>\n",
       "</div>"
      ],
      "text/plain": [
       "      is_voucher_incentive_value is_discount_incentive_value  \\\n",
       "23                          0E-9                        0E-9   \n",
       "57                          0E-9                        0E-9   \n",
       "74                          0E-9                        0E-9   \n",
       "93                          0E-9                        0E-9   \n",
       "152                         0E-9                        0E-9   \n",
       "...                          ...                         ...   \n",
       "14707                       0E-9                        0E-9   \n",
       "14719                       0E-9                        0E-9   \n",
       "14783                       0E-9                        0E-9   \n",
       "14819                       0E-9                        0E-9   \n",
       "14877                       0E-9                        0E-9   \n",
       "\n",
       "      is_joker_incentive_value total_incentive_value  basket_value  \\\n",
       "23                 3.800000000           3.800000000  13.010000000   \n",
       "57                 3.800000000           3.800000000  13.690000000   \n",
       "74                 3.800000000           3.800000000  13.770000000   \n",
       "93                 8.450000000           8.450000000  28.560000000   \n",
       "152                3.800000000           3.800000000  14.280000000   \n",
       "...                        ...                   ...           ...   \n",
       "14707              8.450000000           8.450000000  62.520000000   \n",
       "14719              8.450000000           8.450000000  58.630000000   \n",
       "14783              8.450000000           8.450000000  47.820000000   \n",
       "14819              8.450000000           8.450000000  52.470000000   \n",
       "14877              8.450000000           8.450000000  40.720000000   \n",
       "\n",
       "       is_discount  is_voucher  is_joker  is_free_delivery  \n",
       "23            True       False      True              True  \n",
       "57            True       False      True              True  \n",
       "74            True       False      True              True  \n",
       "93            True       False      True              True  \n",
       "152           True       False      True              True  \n",
       "...            ...         ...       ...               ...  \n",
       "14707         True       False      True             False  \n",
       "14719         True       False      True             False  \n",
       "14783         True       False      True             False  \n",
       "14819         True       False      True             False  \n",
       "14877         True       False      True             False  \n",
       "\n",
       "[561 rows x 9 columns]"
      ]
     },
     "execution_count": 22,
     "metadata": {},
     "output_type": "execute_result"
    }
   ],
   "source": [
    "df[df['is_joker']==True]\n",
    "#print(len(df[df['is_discount']==True]))"
   ]
  },
  {
   "cell_type": "code",
   "execution_count": 23,
   "metadata": {},
   "outputs": [],
   "source": [
    "def plot_hist(df, subset):\n",
    "    df_sub = df[df[subset]==True]\n",
    "    print(\"Share: %\", round(len(df_sub)*100/len(df), 2))\n",
    "    fig, ax = plt.subplots(figsize = (4,4))\n",
    "    ax.hist(df_sub['total_incentive_value'], alpha=0.5, label='total_incentive_value')\n",
    "    if subset!=\"is_free_delivery\":\n",
    "        ax.hist(df_sub[subset+'_incentive_value'], alpha=0.5, label='basket_value_incentive_specific')\n",
    "    ax.hist(df_sub['basket_value'], alpha=0.5, label='basket_value')\n",
    "    ax.legend(loc='upper right')\n",
    "    plt.show()\n",
    "\n",
    "def plot_all(df):\n",
    "    for col in df.columns:\n",
    "        if \"value\" not in col and \"is_\" in col and 'incentive_value' not in col:\n",
    "            print(col)\n",
    "            plot_hist(df, col)"
   ]
  },
  {
   "cell_type": "code",
   "execution_count": 24,
   "metadata": {},
   "outputs": [
    {
     "name": "stdout",
     "output_type": "stream",
     "text": [
      "is_discount\n",
      "Share: % 22.97\n"
     ]
    },
    {
     "data": {
      "image/png": "[encoded data removed]",
      "text/plain": [
       "<Figure size 400x400 with 1 Axes>"
      ]
     },
     "metadata": {},
     "output_type": "display_data"
    },
    {
     "name": "stdout",
     "output_type": "stream",
     "text": [
      "is_voucher\n",
      "Share: % 10.5\n"
     ]
    },
    {
     "data": {
      "image/png": "[encoded data removed]",
      "text/plain": [
       "<Figure size 400x400 with 1 Axes>"
      ]
     },
     "metadata": {},
     "output_type": "display_data"
    },
    {
     "name": "stdout",
     "output_type": "stream",
     "text": [
      "is_joker\n",
      "Share: % 3.4\n"
     ]
    },
    {
     "data": {
      "image/png": "[encoded data removed]",
      "text/plain": [
       "<Figure size 400x400 with 1 Axes>"
      ]
     },
     "metadata": {},
     "output_type": "display_data"
    },
    {
     "name": "stdout",
     "output_type": "stream",
     "text": [
      "is_free_delivery\n",
      "Share: % 28.78\n"
     ]
    },
    {
     "data": {
      "image/png": "[encoded data removed]",
      "text/plain": [
       "<Figure size 400x400 with 1 Axes>"
      ]
     },
     "metadata": {},
     "output_type": "display_data"
    }
   ],
   "source": [
    "plot_all(df) #EUR"
   ]
  },
  {
   "cell_type": "code",
   "execution_count": null,
   "metadata": {},
   "outputs": [],
   "source": [
    "df.columns"
   ]
  },
  {
   "cell_type": "markdown",
   "metadata": {},
   "source": [
    "### Columns description:\n",
    "#### Incentives\n",
    "- **is_discount**: True if some other discount was given (**and used?**) to the customer (other than voucher and joker), e.g. Meal deal / Happy hour / Free drink / Pizza Montag / Free Delivery etc.\t\n",
    "- **is_voucher**: True if a voucher code was used, when the customer types in a code during the order process to receive a price reduction.\t\n",
    "- **is_free_delivery**: True if there was no delivery fee for the order.\n",
    "- **is_joker**: True if the joker feature was used in the order process.\n",
    "- **gmv_eur**: Gross Merchandise Value (GMV) is a metric that measures your total value of sales over a certain period of time. In this case we are calculating for each order the total amount Paid compulsory by Customer (also called MPR after DH Subsidy). Note that for top-level reporting this is calculated on Successful Orders, but not necessarily on Commissionable Orders. Includes VAT, all fees and incentives. Excludes Rider tip. Amount the customer paid (after vouchers and discounts, including delivery fee, allowance amount and **excluding tips**) in Euro.\n",
    "\n",
    "For the discounts:\n",
    "- **is_voucher_incentive_value**: we take the value.incentives.voucher_total_eur value which includes both DH vouchers and non\n",
    "- **is_discount_incentive_value**: we sum discount_dh_eur and discount_other_eur because discount_total_eur also contains joker - also summing all the appropriate columns the result wil still differ from the \"total\" column due to rounding errors\n",
    "- **is_joker_incentive_value**: the value is not null only if the joker feature was used in the order process (joker is a customized incentive, time limited)\n",
    "- delivery free has no incentive value\n",
    "\n",
    "Potentially interesting columns:\n",
    "is_acquisition, is_corporate, is_qcommerce, value.incentives.wallet_total_eur\n",
    "\n",
    "A way to differentiate dh vs vendor voucher value is to look at the respective voucher amount (the column contains a voucher amount breakdown).\n",
    "\n",
    "To calculate the incentive value:\n",
    "vouchers.amount_eur field is similar to value.incentives.voucher_total_eur (field I actually used), but in amount_eur the voucher value is divided against each voucher code/ campaign name."
   ]
  },
  {
   "cell_type": "markdown",
   "metadata": {},
   "source": [
    "Commission data info comes a month later, however January did not seem to have data for the day - but we are not interested in commission data."
   ]
  },
  {
   "cell_type": "code",
   "execution_count": null,
   "metadata": {},
   "outputs": [],
   "source": []
  }
 ],
 "metadata": {
  "kernelspec": {
   "display_name": "Python 3 (ipykernel)",
   "language": "python",
   "name": "python3"
  },
  "language_info": {
   "codemirror_mode": {
    "name": "ipython",
    "version": 3
   },
   "file_extension": ".py",
   "mimetype": "text/x-python",
   "name": "python",
   "nbconvert_exporter": "python",
   "pygments_lexer": "ipython3",
   "version": "3.10.1"
  }
 },
 "nbformat": 4,
 "nbformat_minor": 4
}
